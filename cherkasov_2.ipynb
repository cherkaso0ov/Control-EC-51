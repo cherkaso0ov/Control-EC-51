{
 "cells": [
  {
   "cell_type": "code",
   "execution_count": 1,
   "metadata": {},
   "outputs": [],
   "source": [
    "#Загружаем наш дата сет. Мы имеем дата сет из 10 колонок (Age, Sex, ALP, ALT, AST, BIL, CHE, CHOL, CREA, Category) и 615 строк. Есть как числовые, так и качественные переменные. Крайний столбец Category выступает как классификатор."
   ]
  },
  {
   "cell_type": "code",
   "execution_count": 1,
   "metadata": {},
   "outputs": [],
   "source": [
    "# Загружаем необходимые библиотеки для начала работы (Numpy, Matplotlib.pyplot ,Pandas)\n",
    "import numpy as np\n",
    "import matplotlib.pyplot as plt\n",
    "import pandas as pd"
   ]
  },
  {
   "cell_type": "code",
   "execution_count": 2,
   "metadata": {},
   "outputs": [],
   "source": [
    "# Загружаем дата сет в формате сsv, разделитель запятые.\n",
    "df = pd.read_csv('cont.csv', sep=',' )"
   ]
  },
  {
   "cell_type": "code",
   "execution_count": 3,
   "metadata": {},
   "outputs": [
    {
     "data": {
      "text/html": [
       "<div>\n",
       "<style scoped>\n",
       "    .dataframe tbody tr th:only-of-type {\n",
       "        vertical-align: middle;\n",
       "    }\n",
       "\n",
       "    .dataframe tbody tr th {\n",
       "        vertical-align: top;\n",
       "    }\n",
       "\n",
       "    .dataframe thead th {\n",
       "        text-align: right;\n",
       "    }\n",
       "</style>\n",
       "<table border=\"1\" class=\"dataframe\">\n",
       "  <thead>\n",
       "    <tr style=\"text-align: right;\">\n",
       "      <th></th>\n",
       "      <th>Age</th>\n",
       "      <th>Sex</th>\n",
       "      <th>ALP</th>\n",
       "      <th>ALT</th>\n",
       "      <th>AST</th>\n",
       "      <th>BIL</th>\n",
       "      <th>CHE</th>\n",
       "      <th>CHOL</th>\n",
       "      <th>CREA</th>\n",
       "      <th>Category</th>\n",
       "    </tr>\n",
       "  </thead>\n",
       "  <tbody>\n",
       "    <tr>\n",
       "      <th>0</th>\n",
       "      <td>32</td>\n",
       "      <td>m</td>\n",
       "      <td>52.5</td>\n",
       "      <td>7.7</td>\n",
       "      <td>22.1</td>\n",
       "      <td>7.5</td>\n",
       "      <td>6.93</td>\n",
       "      <td>3.23</td>\n",
       "      <td>106.0</td>\n",
       "      <td>0</td>\n",
       "    </tr>\n",
       "    <tr>\n",
       "      <th>1</th>\n",
       "      <td>32</td>\n",
       "      <td>m</td>\n",
       "      <td>70.3</td>\n",
       "      <td>18.0</td>\n",
       "      <td>24.7</td>\n",
       "      <td>3.9</td>\n",
       "      <td>11.17</td>\n",
       "      <td>4.80</td>\n",
       "      <td>74.0</td>\n",
       "      <td>0</td>\n",
       "    </tr>\n",
       "    <tr>\n",
       "      <th>2</th>\n",
       "      <td>32</td>\n",
       "      <td>m</td>\n",
       "      <td>74.7</td>\n",
       "      <td>36.2</td>\n",
       "      <td>52.6</td>\n",
       "      <td>6.1</td>\n",
       "      <td>8.84</td>\n",
       "      <td>5.20</td>\n",
       "      <td>86.0</td>\n",
       "      <td>0</td>\n",
       "    </tr>\n",
       "    <tr>\n",
       "      <th>3</th>\n",
       "      <td>32</td>\n",
       "      <td>m</td>\n",
       "      <td>52.0</td>\n",
       "      <td>30.6</td>\n",
       "      <td>22.6</td>\n",
       "      <td>18.9</td>\n",
       "      <td>7.33</td>\n",
       "      <td>4.74</td>\n",
       "      <td>80.0</td>\n",
       "      <td>0</td>\n",
       "    </tr>\n",
       "    <tr>\n",
       "      <th>4</th>\n",
       "      <td>32</td>\n",
       "      <td>m</td>\n",
       "      <td>74.1</td>\n",
       "      <td>32.6</td>\n",
       "      <td>24.8</td>\n",
       "      <td>9.6</td>\n",
       "      <td>9.15</td>\n",
       "      <td>4.32</td>\n",
       "      <td>76.0</td>\n",
       "      <td>0</td>\n",
       "    </tr>\n",
       "    <tr>\n",
       "      <th>...</th>\n",
       "      <td>...</td>\n",
       "      <td>...</td>\n",
       "      <td>...</td>\n",
       "      <td>...</td>\n",
       "      <td>...</td>\n",
       "      <td>...</td>\n",
       "      <td>...</td>\n",
       "      <td>...</td>\n",
       "      <td>...</td>\n",
       "      <td>...</td>\n",
       "    </tr>\n",
       "    <tr>\n",
       "      <th>610</th>\n",
       "      <td>62</td>\n",
       "      <td>f</td>\n",
       "      <td>416.6</td>\n",
       "      <td>5.9</td>\n",
       "      <td>110.3</td>\n",
       "      <td>50.0</td>\n",
       "      <td>5.57</td>\n",
       "      <td>6.30</td>\n",
       "      <td>55.7</td>\n",
       "      <td>1</td>\n",
       "    </tr>\n",
       "    <tr>\n",
       "      <th>611</th>\n",
       "      <td>64</td>\n",
       "      <td>f</td>\n",
       "      <td>102.8</td>\n",
       "      <td>2.9</td>\n",
       "      <td>44.4</td>\n",
       "      <td>20.0</td>\n",
       "      <td>1.54</td>\n",
       "      <td>3.02</td>\n",
       "      <td>63.0</td>\n",
       "      <td>1</td>\n",
       "    </tr>\n",
       "    <tr>\n",
       "      <th>612</th>\n",
       "      <td>64</td>\n",
       "      <td>f</td>\n",
       "      <td>87.3</td>\n",
       "      <td>3.5</td>\n",
       "      <td>99.0</td>\n",
       "      <td>48.0</td>\n",
       "      <td>1.66</td>\n",
       "      <td>3.63</td>\n",
       "      <td>66.7</td>\n",
       "      <td>1</td>\n",
       "    </tr>\n",
       "    <tr>\n",
       "      <th>613</th>\n",
       "      <td>46</td>\n",
       "      <td>f</td>\n",
       "      <td>NaN</td>\n",
       "      <td>39.0</td>\n",
       "      <td>62.0</td>\n",
       "      <td>20.0</td>\n",
       "      <td>3.56</td>\n",
       "      <td>4.20</td>\n",
       "      <td>52.0</td>\n",
       "      <td>1</td>\n",
       "    </tr>\n",
       "    <tr>\n",
       "      <th>614</th>\n",
       "      <td>59</td>\n",
       "      <td>f</td>\n",
       "      <td>NaN</td>\n",
       "      <td>100.0</td>\n",
       "      <td>80.0</td>\n",
       "      <td>12.0</td>\n",
       "      <td>9.07</td>\n",
       "      <td>5.30</td>\n",
       "      <td>67.0</td>\n",
       "      <td>1</td>\n",
       "    </tr>\n",
       "  </tbody>\n",
       "</table>\n",
       "<p>615 rows × 10 columns</p>\n",
       "</div>"
      ],
      "text/plain": [
       "     Age Sex    ALP    ALT    AST   BIL    CHE  CHOL   CREA  Category\n",
       "0     32   m   52.5    7.7   22.1   7.5   6.93  3.23  106.0         0\n",
       "1     32   m   70.3   18.0   24.7   3.9  11.17  4.80   74.0         0\n",
       "2     32   m   74.7   36.2   52.6   6.1   8.84  5.20   86.0         0\n",
       "3     32   m   52.0   30.6   22.6  18.9   7.33  4.74   80.0         0\n",
       "4     32   m   74.1   32.6   24.8   9.6   9.15  4.32   76.0         0\n",
       "..   ...  ..    ...    ...    ...   ...    ...   ...    ...       ...\n",
       "610   62   f  416.6    5.9  110.3  50.0   5.57  6.30   55.7         1\n",
       "611   64   f  102.8    2.9   44.4  20.0   1.54  3.02   63.0         1\n",
       "612   64   f   87.3    3.5   99.0  48.0   1.66  3.63   66.7         1\n",
       "613   46   f    NaN   39.0   62.0  20.0   3.56  4.20   52.0         1\n",
       "614   59   f    NaN  100.0   80.0  12.0   9.07  5.30   67.0         1\n",
       "\n",
       "[615 rows x 10 columns]"
      ]
     },
     "execution_count": 3,
     "metadata": {},
     "output_type": "execute_result"
    }
   ],
   "source": [
    "# Проверяем как загрузился дата сет. Сразу видно присутствие NaN в столбцах\n",
    "df"
   ]
  },
  {
   "cell_type": "code",
   "execution_count": 4,
   "metadata": {},
   "outputs": [],
   "source": [
    "# Проверяем и заменяем пропуски в числовых столбцах дата сета.\n",
    "def fill_missing_num(x):\n",
    "    num_var = list(x._get_numeric_data().columns)\n",
    "    for col_names in num_var:        \n",
    "        prep_med = SimpleImputer(missing_values=np.nan, strategy='mean')\n",
    "        prep_med.fit(x[num_var])\n",
    "        x[num_var] = prep_med.transform(x[num_var])\n",
    "    return(x)"
   ]
  },
  {
   "cell_type": "code",
   "execution_count": 5,
   "metadata": {},
   "outputs": [],
   "source": [
    "# Заполняем значения NaN с помощью SimpleImputer.\n",
    "from sklearn.impute import SimpleImputer\n",
    "df = fill_missing_num(df)"
   ]
  },
  {
   "cell_type": "code",
   "execution_count": 7,
   "metadata": {},
   "outputs": [],
   "source": [
    "# Производим кодирование всех качественных переменных, в нашем случае только столбец Sex.\n",
    "def encoding_char(x):\n",
    "    char_var = list(set(x.columns) - set(x._get_numeric_data().columns))\n",
    "    for col_names in char_var:\n",
    "        f = pd.factorize(x[col_names])\n",
    "        x[col_names] = pd.factorize(x[col_names])[0]\n",
    "    return(x)"
   ]
  },
  {
   "cell_type": "code",
   "execution_count": 8,
   "metadata": {},
   "outputs": [],
   "source": [
    "df = encoding_char(df)"
   ]
  },
  {
   "cell_type": "code",
   "execution_count": 9,
   "metadata": {},
   "outputs": [],
   "source": [
    "# Делим наш дата сет на обучающую и тестирующую выборку в пропорции 20/80.\n",
    "X = df.iloc[:, :-1].values\n",
    "y = df.iloc[:, -1].values\n",
    "from sklearn.model_selection import train_test_split\n",
    "X_train, X_test, y_train, y_test = train_test_split(X, y, test_size=0.2, random_state=13)"
   ]
  },
  {
   "cell_type": "code",
   "execution_count": 10,
   "metadata": {},
   "outputs": [],
   "source": [
    "# Производим шкалирование наших данных без нашей эдогенной переменной Category.\n",
    "from sklearn.preprocessing import StandardScaler\n",
    "sc_X = StandardScaler().fit(X_train)\n",
    "X_train = sc_X.transform(X_train)\n",
    "X_test = sc_X.transform(X_test)"
   ]
  },
  {
   "cell_type": "code",
   "execution_count": 11,
   "metadata": {},
   "outputs": [
    {
     "name": "stdout",
     "output_type": "stream",
     "text": [
      "Optimization terminated successfully.\n",
      "         Current function value: 0.312738\n",
      "         Iterations 8\n",
      "                         Results: Logit\n",
      "=================================================================\n",
      "Model:              Logit            Pseudo R-squared: 0.214     \n",
      "Dependent Variable: y                AIC:              325.7338  \n",
      "Date:               2020-11-23 12:00 BIC:              363.5201  \n",
      "No. Observations:   492              Log-Likelihood:   -153.87   \n",
      "Df Model:           8                LL-Null:          -195.80   \n",
      "Df Residuals:       483              LLR p-value:      8.1273e-15\n",
      "Converged:          1.0000           Scale:            1.0000    \n",
      "No. Iterations:     8.0000                                       \n",
      "--------------------------------------------------------------------\n",
      "       Coef.     Std.Err.       z       P>|z|      [0.025     0.975]\n",
      "--------------------------------------------------------------------\n",
      "x1     0.0023      0.1505     0.0155    0.9877    -0.2927     0.2973\n",
      "x2     0.1901      0.1652     1.1504    0.2500    -0.1338     0.5139\n",
      "x3    -0.0718      0.2285    -0.3145    0.7532    -0.5196     0.3760\n",
      "x4    -1.4307      0.2335    -6.1277    0.0000    -1.8883    -0.9731\n",
      "x5     7.3728      0.6351    11.6094    0.0000     6.1281     8.6175\n",
      "x6     1.1551      0.3660     3.1556    0.0016     0.4376     1.8725\n",
      "x7    -0.2509      0.1840    -1.3632    0.1728    -0.6115     0.1098\n",
      "x8    -0.1494      0.1762    -0.8479    0.3965    -0.4947     0.1959\n",
      "x9     0.0912      0.1883     0.4845    0.6281    -0.2779     0.4604\n",
      "=================================================================\n",
      "\n"
     ]
    }
   ],
   "source": [
    "# Строим базовую модель и смотрим на полученный отчет. Можно сделать вывод, что значимых перменных только две, это х4 (ALT) и х5 (AST). Будем использовать их для построения наших классификаторов.\n",
    "import statsmodels.api as sm\n",
    "lr = sm.Logit(y_train, X_train).fit()\n",
    "print(lr.summary2())"
   ]
  },
  {
   "cell_type": "code",
   "execution_count": 13,
   "metadata": {},
   "outputs": [],
   "source": [
    "# Остлавляем только значимые переменные.\n",
    "X_train = X_train[:,[3,4]]\n",
    "X_test = X_test[:,[3,4]]"
   ]
  },
  {
   "cell_type": "code",
   "execution_count": 14,
   "metadata": {},
   "outputs": [],
   "source": [
    "# Обучаем модель логистической регрессии.\n",
    "from sklearn.linear_model import LogisticRegression\n",
    "lr = LogisticRegression(random_state = 13).fit(X_train, y_train)"
   ]
  },
  {
   "cell_type": "code",
   "execution_count": 15,
   "metadata": {},
   "outputs": [
    {
     "data": {
      "text/plain": [
       "0.959349593495935"
      ]
     },
     "execution_count": 15,
     "metadata": {},
     "output_type": "execute_result"
    }
   ],
   "source": [
    "# Делаем прогноз на тестовой выборке. Уровень качества модели очень высок, превышает 95%, то  есть 95% объектов распознано верно.\n",
    "y_pred = lr.predict(X_test)\n",
    "lr.score(X_test,y_test)"
   ]
  },
  {
   "cell_type": "code",
   "execution_count": 16,
   "metadata": {},
   "outputs": [
    {
     "name": "stdout",
     "output_type": "stream",
     "text": [
      "[[108   0]\n",
      " [  5  10]]\n"
     ]
    }
   ],
   "source": [
    "# Строим таблицу сопряженности. Можно сделать вывод, что 5 положительных случая ложно определены как отрицательные. \n",
    "from sklearn.metrics import confusion_matrix\n",
    "cm = confusion_matrix(y_test, y_pred)\n",
    "print(cm)"
   ]
  },
  {
   "cell_type": "code",
   "execution_count": 17,
   "metadata": {},
   "outputs": [
    {
     "name": "stderr",
     "output_type": "stream",
     "text": [
      "*c* argument looks like a single numeric RGB or RGBA sequence, which should be avoided as value-mapping will have precedence in case its length matches with *x* & *y*.  Please use the *color* keyword-argument or provide a 2-D array with a single row if you intend to specify the same RGB or RGBA value for all points.\n",
      "*c* argument looks like a single numeric RGB or RGBA sequence, which should be avoided as value-mapping will have precedence in case its length matches with *x* & *y*.  Please use the *color* keyword-argument or provide a 2-D array with a single row if you intend to specify the same RGB or RGBA value for all points.\n"
     ]
    },
    {
     "data": {
      "image/png": "[encoded data removed]",
      "text/plain": [
       "<Figure size 432x288 with 1 Axes>"
      ]
     },
     "metadata": {
      "needs_background": "light"
     },
     "output_type": "display_data"
    }
   ],
   "source": [
    "# Строим область значений. Они отделяются линейно. Зелёные точки - больные люди, красные точки - здоровые. Люди с повышенным значением AST более склонны к болезни. \n",
    "from matplotlib.colors import ListedColormap\n",
    "X_set, y_set = X_test, y_test\n",
    "X1, X2 = np.meshgrid(np.arange(start = X_set[:, 0].min() - 1, stop = X_set[:, 0].max() + 1, step = 0.01),\n",
    "                     np.arange(start = X_set[:, 1].min() - 1, stop = X_set[:, 1].max() + 1, step = 0.01))\n",
    "plt.contourf(X1, X2, lr.predict(np.array([X1.ravel(), X2.ravel()]).T).reshape(X1.shape),\n",
    "             alpha = 0.75, cmap = ListedColormap(('red', 'green')))\n",
    "plt.xlim(X1.min(), X1.max())\n",
    "plt.ylim(X2.min(), X2.max())\n",
    "for i, j in enumerate(np.unique(y_set)):\n",
    "    plt.scatter(X_set[y_set == j, 0], X_set[y_set == j, 1],\n",
    "                c = ListedColormap(('red', 'green'))(i), label = j)\n",
    "plt.title('Logistic Regression (Test set)')\n",
    "plt.xlabel('ALT')\n",
    "plt.ylabel('AST')\n",
    "plt.legend()\n",
    "plt.show()"
   ]
  },
  {
   "cell_type": "code",
   "execution_count": 18,
   "metadata": {},
   "outputs": [],
   "source": [
    "# Устанавливаем необходимые пакеты Keras.\n",
    "import keras\n",
    "from keras.models import Sequential\n",
    "from keras.layers import Dense"
   ]
  },
  {
   "cell_type": "code",
   "execution_count": 52,
   "metadata": {},
   "outputs": [],
   "source": [
    "# Строим нейронную сеть прямой передачи сигнала. На входном слое 8 нейрона (усложнее). Используем функцию relu, которая позволит учесть наличие линейнносоти в исходных данных. На втором слое выбирем 1 нейрон используя сигмоидальную функцию. \n",
    "cnn = Sequential()\n",
    "cnn.add(Dense(units = 8,  activation = 'relu', input_dim = 2))\n",
    "cnn.add(Dense(units = 1,  activation = 'sigmoid'))\n",
    "cnn.compile(optimizer = 'adam', loss = 'binary_crossentropy', metrics = ['accuracy'])"
   ]
  },
  {
   "cell_type": "code",
   "execution_count": 53,
   "metadata": {},
   "outputs": [
    {
     "name": "stdout",
     "output_type": "stream",
     "text": [
      "Epoch 1/100\n",
      "62/62 [==============================] - 0s 502us/step - loss: 0.7031 - accuracy: 0.3476\n",
      "Epoch 2/100\n",
      "62/62 [==============================] - 0s 466us/step - loss: 0.6257 - accuracy: 0.8923\n",
      "Epoch 3/100\n",
      "62/62 [==============================] - 0s 482us/step - loss: 0.5684 - accuracy: 0.9126\n",
      "Epoch 4/100\n",
      "62/62 [==============================] - 0s 466us/step - loss: 0.5181 - accuracy: 0.9289\n",
      "Epoch 5/100\n",
      "62/62 [==============================] - 0s 483us/step - loss: 0.4728 - accuracy: 0.9309\n",
      "Epoch 6/100\n",
      "62/62 [==============================] - 0s 450us/step - loss: 0.4307 - accuracy: 0.9370\n",
      "Epoch 7/100\n",
      "62/62 [==============================] - 0s 434us/step - loss: 0.3925 - accuracy: 0.9370\n",
      "Epoch 8/100\n",
      "62/62 [==============================] - 0s 448us/step - loss: 0.3586 - accuracy: 0.9390\n",
      "Epoch 9/100\n",
      "62/62 [==============================] - 0s 450us/step - loss: 0.3293 - accuracy: 0.9390\n",
      "Epoch 10/100\n",
      "62/62 [==============================] - 0s 499us/step - loss: 0.3042 - accuracy: 0.9370\n",
      "Epoch 11/100\n",
      "62/62 [==============================] - 0s 483us/step - loss: 0.2830 - accuracy: 0.9390\n",
      "Epoch 12/100\n",
      "62/62 [==============================] - 0s 450us/step - loss: 0.2655 - accuracy: 0.9390\n",
      "Epoch 13/100\n",
      "62/62 [==============================] - 0s 466us/step - loss: 0.2510 - accuracy: 0.9390\n",
      "Epoch 14/100\n",
      "62/62 [==============================] - 0s 483us/step - loss: 0.2388 - accuracy: 0.9390\n",
      "Epoch 15/100\n",
      "62/62 [==============================] - 0s 450us/step - loss: 0.2294 - accuracy: 0.9390\n",
      "Epoch 16/100\n",
      "62/62 [==============================] - 0s 464us/step - loss: 0.2210 - accuracy: 0.9390\n",
      "Epoch 17/100\n",
      "62/62 [==============================] - 0s 450us/step - loss: 0.2145 - accuracy: 0.9390\n",
      "Epoch 18/100\n",
      "62/62 [==============================] - 0s 466us/step - loss: 0.2084 - accuracy: 0.9390\n",
      "Epoch 19/100\n",
      "62/62 [==============================] - 0s 450us/step - loss: 0.2034 - accuracy: 0.9390\n",
      "Epoch 20/100\n",
      "62/62 [==============================] - 0s 459us/step - loss: 0.1996 - accuracy: 0.9390\n",
      "Epoch 21/100\n",
      "62/62 [==============================] - 0s 453us/step - loss: 0.1957 - accuracy: 0.9390\n",
      "Epoch 22/100\n",
      "62/62 [==============================] - 0s 452us/step - loss: 0.1928 - accuracy: 0.9390\n",
      "Epoch 23/100\n",
      "62/62 [==============================] - 0s 530us/step - loss: 0.1897 - accuracy: 0.9390\n",
      "Epoch 24/100\n",
      "62/62 [==============================] - 0s 450us/step - loss: 0.1873 - accuracy: 0.9390\n",
      "Epoch 25/100\n",
      "62/62 [==============================] - 0s 434us/step - loss: 0.1848 - accuracy: 0.9390\n",
      "Epoch 26/100\n",
      "62/62 [==============================] - 0s 466us/step - loss: 0.1830 - accuracy: 0.9390\n",
      "Epoch 27/100\n",
      "62/62 [==============================] - 0s 484us/step - loss: 0.1806 - accuracy: 0.9390\n",
      "Epoch 28/100\n",
      "62/62 [==============================] - 0s 499us/step - loss: 0.1787 - accuracy: 0.9390\n",
      "Epoch 29/100\n",
      "62/62 [==============================] - 0s 450us/step - loss: 0.1768 - accuracy: 0.9390\n",
      "Epoch 30/100\n",
      "62/62 [==============================] - 0s 461us/step - loss: 0.1751 - accuracy: 0.9390\n",
      "Epoch 31/100\n",
      "62/62 [==============================] - 0s 466us/step - loss: 0.1735 - accuracy: 0.9370\n",
      "Epoch 32/100\n",
      "62/62 [==============================] - 0s 450us/step - loss: 0.1718 - accuracy: 0.9370\n",
      "Epoch 33/100\n",
      "62/62 [==============================] - 0s 466us/step - loss: 0.1703 - accuracy: 0.9370\n",
      "Epoch 34/100\n",
      "62/62 [==============================] - 0s 467us/step - loss: 0.1691 - accuracy: 0.9370\n",
      "Epoch 35/100\n",
      "62/62 [==============================] - 0s 434us/step - loss: 0.1677 - accuracy: 0.9370\n",
      "Epoch 36/100\n",
      "62/62 [==============================] - 0s 479us/step - loss: 0.1666 - accuracy: 0.9370\n",
      "Epoch 37/100\n",
      "62/62 [==============================] - 0s 450us/step - loss: 0.1651 - accuracy: 0.9390\n",
      "Epoch 38/100\n",
      "62/62 [==============================] - 0s 450us/step - loss: 0.1640 - accuracy: 0.9390\n",
      "Epoch 39/100\n",
      "62/62 [==============================] - 0s 434us/step - loss: 0.1629 - accuracy: 0.9411\n",
      "Epoch 40/100\n",
      "62/62 [==============================] - 0s 463us/step - loss: 0.1618 - accuracy: 0.9431\n",
      "Epoch 41/100\n",
      "62/62 [==============================] - 0s 466us/step - loss: 0.1606 - accuracy: 0.9431\n",
      "Epoch 42/100\n",
      "62/62 [==============================] - 0s 466us/step - loss: 0.1598 - accuracy: 0.9431\n",
      "Epoch 43/100\n",
      "62/62 [==============================] - 0s 494us/step - loss: 0.1588 - accuracy: 0.9451\n",
      "Epoch 44/100\n",
      "62/62 [==============================] - 0s 461us/step - loss: 0.1580 - accuracy: 0.9431\n",
      "Epoch 45/100\n",
      "62/62 [==============================] - 0s 466us/step - loss: 0.1571 - accuracy: 0.9431\n",
      "Epoch 46/100\n",
      "62/62 [==============================] - 0s 461us/step - loss: 0.1564 - accuracy: 0.9451\n",
      "Epoch 47/100\n",
      "62/62 [==============================] - 0s 466us/step - loss: 0.1553 - accuracy: 0.9472\n",
      "Epoch 48/100\n",
      "62/62 [==============================] - 0s 451us/step - loss: 0.1547 - accuracy: 0.9451\n",
      "Epoch 49/100\n",
      "62/62 [==============================] - 0s 434us/step - loss: 0.1537 - accuracy: 0.9472\n",
      "Epoch 50/100\n",
      "62/62 [==============================] - 0s 466us/step - loss: 0.1531 - accuracy: 0.9472\n",
      "Epoch 51/100\n",
      "62/62 [==============================] - 0s 466us/step - loss: 0.1526 - accuracy: 0.9472\n",
      "Epoch 52/100\n",
      "62/62 [==============================] - 0s 450us/step - loss: 0.1518 - accuracy: 0.9472\n",
      "Epoch 53/100\n",
      "62/62 [==============================] - 0s 450us/step - loss: 0.1511 - accuracy: 0.9451\n",
      "Epoch 54/100\n",
      "62/62 [==============================] - 0s 466us/step - loss: 0.1504 - accuracy: 0.9472\n",
      "Epoch 55/100\n",
      "62/62 [==============================] - 0s 458us/step - loss: 0.1497 - accuracy: 0.9472\n",
      "Epoch 56/100\n",
      "62/62 [==============================] - 0s 434us/step - loss: 0.1493 - accuracy: 0.9472\n",
      "Epoch 57/100\n",
      "62/62 [==============================] - 0s 444us/step - loss: 0.1485 - accuracy: 0.9472\n",
      "Epoch 58/100\n",
      "62/62 [==============================] - 0s 418us/step - loss: 0.1482 - accuracy: 0.9472\n",
      "Epoch 59/100\n",
      "62/62 [==============================] - 0s 450us/step - loss: 0.1474 - accuracy: 0.9472\n",
      "Epoch 60/100\n",
      "62/62 [==============================] - 0s 434us/step - loss: 0.1469 - accuracy: 0.9472\n",
      "Epoch 61/100\n",
      "62/62 [==============================] - 0s 466us/step - loss: 0.1461 - accuracy: 0.9472\n",
      "Epoch 62/100\n",
      "62/62 [==============================] - 0s 457us/step - loss: 0.1457 - accuracy: 0.9472\n",
      "Epoch 63/100\n",
      "62/62 [==============================] - 0s 469us/step - loss: 0.1452 - accuracy: 0.9472\n",
      "Epoch 64/100\n",
      "62/62 [==============================] - 0s 450us/step - loss: 0.1445 - accuracy: 0.9472\n",
      "Epoch 65/100\n",
      "62/62 [==============================] - 0s 467us/step - loss: 0.1439 - accuracy: 0.9472\n",
      "Epoch 66/100\n",
      "62/62 [==============================] - 0s 464us/step - loss: 0.1434 - accuracy: 0.9492\n",
      "Epoch 67/100\n",
      "62/62 [==============================] - 0s 450us/step - loss: 0.1428 - accuracy: 0.9492\n",
      "Epoch 68/100\n",
      "62/62 [==============================] - 0s 475us/step - loss: 0.1424 - accuracy: 0.9492\n",
      "Epoch 69/100\n",
      "62/62 [==============================] - 0s 450us/step - loss: 0.1418 - accuracy: 0.9492\n",
      "Epoch 70/100\n",
      "62/62 [==============================] - 0s 450us/step - loss: 0.1413 - accuracy: 0.9492\n",
      "Epoch 71/100\n",
      "62/62 [==============================] - 0s 483us/step - loss: 0.1408 - accuracy: 0.9472\n",
      "Epoch 72/100\n",
      "62/62 [==============================] - 0s 450us/step - loss: 0.1402 - accuracy: 0.9492\n",
      "Epoch 73/100\n",
      "62/62 [==============================] - 0s 450us/step - loss: 0.1400 - accuracy: 0.9492\n",
      "Epoch 74/100\n",
      "62/62 [==============================] - 0s 442us/step - loss: 0.1394 - accuracy: 0.9492\n",
      "Epoch 75/100\n",
      "62/62 [==============================] - 0s 450us/step - loss: 0.1393 - accuracy: 0.9492\n",
      "Epoch 76/100\n",
      "62/62 [==============================] - 0s 478us/step - loss: 0.1388 - accuracy: 0.9492\n",
      "Epoch 77/100\n",
      "62/62 [==============================] - 0s 466us/step - loss: 0.1384 - accuracy: 0.9492\n",
      "Epoch 78/100\n",
      "62/62 [==============================] - 0s 434us/step - loss: 0.1379 - accuracy: 0.9492\n",
      "Epoch 79/100\n",
      "62/62 [==============================] - 0s 434us/step - loss: 0.1374 - accuracy: 0.9492\n",
      "Epoch 80/100\n",
      "62/62 [==============================] - 0s 434us/step - loss: 0.1371 - accuracy: 0.9492\n",
      "Epoch 81/100\n"
     ]
    },
    {
     "name": "stdout",
     "output_type": "stream",
     "text": [
      "62/62 [==============================] - 0s 434us/step - loss: 0.1368 - accuracy: 0.9492\n",
      "Epoch 82/100\n",
      "62/62 [==============================] - 0s 450us/step - loss: 0.1366 - accuracy: 0.9472\n",
      "Epoch 83/100\n",
      "62/62 [==============================] - 0s 434us/step - loss: 0.1360 - accuracy: 0.9472\n",
      "Epoch 84/100\n",
      "62/62 [==============================] - 0s 483us/step - loss: 0.1358 - accuracy: 0.9472\n",
      "Epoch 85/100\n",
      "62/62 [==============================] - 0s 466us/step - loss: 0.1355 - accuracy: 0.9492\n",
      "Epoch 86/100\n",
      "62/62 [==============================] - 0s 457us/step - loss: 0.1353 - accuracy: 0.9512\n",
      "Epoch 87/100\n",
      "62/62 [==============================] - 0s 433us/step - loss: 0.1352 - accuracy: 0.9492\n",
      "Epoch 88/100\n",
      "62/62 [==============================] - 0s 466us/step - loss: 0.1346 - accuracy: 0.9492\n",
      "Epoch 89/100\n",
      "62/62 [==============================] - 0s 437us/step - loss: 0.1345 - accuracy: 0.9492\n",
      "Epoch 90/100\n",
      "62/62 [==============================] - 0s 450us/step - loss: 0.1341 - accuracy: 0.9492\n",
      "Epoch 91/100\n",
      "62/62 [==============================] - 0s 466us/step - loss: 0.1340 - accuracy: 0.9492\n",
      "Epoch 92/100\n",
      "62/62 [==============================] - 0s 450us/step - loss: 0.1338 - accuracy: 0.9492\n",
      "Epoch 93/100\n",
      "62/62 [==============================] - 0s 496us/step - loss: 0.1335 - accuracy: 0.9492\n",
      "Epoch 94/100\n",
      "62/62 [==============================] - 0s 451us/step - loss: 0.1332 - accuracy: 0.9492\n",
      "Epoch 95/100\n",
      "62/62 [==============================] - 0s 462us/step - loss: 0.1328 - accuracy: 0.9533\n",
      "Epoch 96/100\n",
      "62/62 [==============================] - 0s 462us/step - loss: 0.1327 - accuracy: 0.9533\n",
      "Epoch 97/100\n",
      "62/62 [==============================] - 0s 450us/step - loss: 0.1324 - accuracy: 0.9492\n",
      "Epoch 98/100\n",
      "62/62 [==============================] - 0s 450us/step - loss: 0.1322 - accuracy: 0.9533\n",
      "Epoch 99/100\n",
      "62/62 [==============================] - 0s 441us/step - loss: 0.1320 - accuracy: 0.9533\n",
      "Epoch 100/100\n",
      "62/62 [==============================] - 0s 515us/step - loss: 0.1322 - accuracy: 0.9512\n"
     ]
    },
    {
     "data": {
      "text/plain": [
       "<tensorflow.python.keras.callbacks.History at 0x211f5047970>"
      ]
     },
     "execution_count": 53,
     "metadata": {},
     "output_type": "execute_result"
    }
   ],
   "source": [
    "# Обучаем нейронную сеть в течении 100 эпох.\n",
    "cnn.fit(X_train, y_train, epochs = 100, batch_size = 8)"
   ]
  },
  {
   "cell_type": "code",
   "execution_count": 54,
   "metadata": {},
   "outputs": [],
   "source": [
    "# Строим прогноз на тестовой выборке.\n",
    "y_pred = cnn.predict(X_test)\n",
    "y_pred = (y_pred > 0.5)"
   ]
  },
  {
   "cell_type": "code",
   "execution_count": 55,
   "metadata": {},
   "outputs": [
    {
     "name": "stdout",
     "output_type": "stream",
     "text": [
      "[[108   0]\n",
      " [  3  12]]\n"
     ]
    }
   ],
   "source": [
    "# Строим таблицу сопряженности. Можно сделать вывод, что 3 положительных случая ложно определены как отрицательные.\n",
    "from sklearn.metrics import confusion_matrix\n",
    "cm = confusion_matrix(y_test, y_pred)\n",
    "print(cm)"
   ]
  },
  {
   "cell_type": "code",
   "execution_count": 56,
   "metadata": {},
   "outputs": [
    {
     "name": "stderr",
     "output_type": "stream",
     "text": [
      "*c* argument looks like a single numeric RGB or RGBA sequence, which should be avoided as value-mapping will have precedence in case its length matches with *x* & *y*.  Please use the *color* keyword-argument or provide a 2-D array with a single row if you intend to specify the same RGB or RGBA value for all points.\n",
      "*c* argument looks like a single numeric RGB or RGBA sequence, which should be avoided as value-mapping will have precedence in case its length matches with *x* & *y*.  Please use the *color* keyword-argument or provide a 2-D array with a single row if you intend to specify the same RGB or RGBA value for all points.\n"
     ]
    },
    {
     "data": {
      "image/png": "[encoded data removed]",
      "text/plain": [
       "<Figure size 432x288 with 1 Axes>"
      ]
     },
     "metadata": {
      "needs_background": "light"
     },
     "output_type": "display_data"
    }
   ],
   "source": [
    "# Строим область значений. Они отделяются уже не линейно. Однако после усложения модели после увеличения входных нейронов с 2 до 8, качество модели улучшилось. \n",
    "from matplotlib.colors import ListedColormap\n",
    "X_set, y_set = X_test, y_test\n",
    "X1, X2 = np.meshgrid(np.arange(start = X_set[:, 0].min() - 1, stop = X_set[:, 0].max() + 1, step = 0.01),\n",
    "                     np.arange(start = X_set[:, 1].min() - 1, stop = X_set[:, 1].max() + 1, step = 0.01))\n",
    "plt.contourf(X1, X2, cnn.predict(np.array([X1.ravel(), X2.ravel()]).T).reshape(X1.shape),\n",
    "             alpha = 0.75, cmap = ListedColormap(('red', 'green')))\n",
    "plt.xlim(X1.min(), X1.max())\n",
    "plt.ylim(X2.min(), X2.max())\n",
    "for i, j in enumerate(np.unique(y_set)):\n",
    "    plt.scatter(X_set[y_set == j, 0], X_set[y_set == j, 1],\n",
    "                c = ListedColormap(('red', 'green'))(i), label = j)\n",
    "plt.title('NN (Test set)')\n",
    "plt.xlabel('ALT')\n",
    "plt.ylabel('AST')\n",
    "plt.legend()\n",
    "plt.show()"
   ]
  },
  {
   "cell_type": "code",
   "execution_count": null,
   "metadata": {},
   "outputs": [],
   "source": [
    "# Выводы. Подводя итоги можно сказать, что исходная логистическая модель обладает повышенной качественностью и определяет 95% объектов верно. Так же стоит отметить, что позитивные и негативные значения отдлеяются линейно. Эту линейность мы используем для построения нейронной сети. При использовании стандартных параметров мы получаем качество модели худше, но при этом сохраняется линейность отделения позитивных от негативных. Для улучшения качества модели было принято решение увеличить количество нейронов на первом слое с 2 до 8, что позволило немного улучшить качество модели в целом, однако разделение положительных от отрицательных более не линейно. "
   ]
  }
 ],
 "metadata": {
  "kernelspec": {
   "display_name": "Python 3",
   "language": "python",
   "name": "python3"
  },
  "language_info": {
   "codemirror_mode": {
    "name": "ipython",
    "version": 3
   },
   "file_extension": ".py",
   "mimetype": "text/x-python",
   "name": "python",
   "nbconvert_exporter": "python",
   "pygments_lexer": "ipython3",
   "version": "3.8.3"
  }
 },
 "nbformat": 4,
 "nbformat_minor": 4
}
