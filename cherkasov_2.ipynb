{
 "cells": [
  {
   "cell_type": "code",
   "execution_count": 1,
   "metadata": {},
   "outputs": [],
   "source": [
    "#Загружаем наш дата сет. Мы имеем дата сет из 10 колонок (Age, Sex, ALP, ALT, AST, BIL, CHE, CHOL, CREA, Category) и 615 строк. Есть как числовые, так и качественные переменные. Крайний столбец Category выступает как классификатор."
   ]
  },
  {
   "cell_type": "code",
   "execution_count": 1,
   "metadata": {},
   "outputs": [],
   "source": [
    "# Загружаем необходимые библиотеки для начала работы (Numpy, Matplotlib.pyplot ,Pandas)\n",
    "import numpy as np\n",
    "import matplotlib.pyplot as plt\n",
    "import pandas as pd"
   ]
  },
  {
   "cell_type": "code",
   "execution_count": 2,
   "metadata": {},
   "outputs": [],
   "source": [
    "# Загружаем дата сет в формате сsv, разделитель запятые.\n",
    "df = pd.read_csv('cont.csv', sep=',' )"
   ]
  },
  {
   "cell_type": "code",
   "execution_count": 3,
   "metadata": {},
   "outputs": [
    {
     "data": {
      "text/html": [
       "<div>\n",
       "<style scoped>\n",
       "    .dataframe tbody tr th:only-of-type {\n",
       "        vertical-align: middle;\n",
       "    }\n",
       "\n",
       "    .dataframe tbody tr th {\n",
       "        vertical-align: top;\n",
       "    }\n",
       "\n",
       "    .dataframe thead th {\n",
       "        text-align: right;\n",
       "    }\n",
       "</style>\n",
       "<table border=\"1\" class=\"dataframe\">\n",
       "  <thead>\n",
       "    <tr style=\"text-align: right;\">\n",
       "      <th></th>\n",
       "      <th>Age</th>\n",
       "      <th>Sex</th>\n",
       "      <th>ALP</th>\n",
       "      <th>ALT</th>\n",
       "      <th>AST</th>\n",
       "      <th>BIL</th>\n",
       "      <th>CHE</th>\n",
       "      <th>CHOL</th>\n",
       "      <th>CREA</th>\n",
       "      <th>Category</th>\n",
       "    </tr>\n",
       "  </thead>\n",
       "  <tbody>\n",
       "    <tr>\n",
       "      <th>0</th>\n",
       "      <td>32</td>\n",
       "      <td>m</td>\n",
       "      <td>52.5</td>\n",
       "      <td>7.7</td>\n",
       "      <td>22.1</td>\n",
       "      <td>7.5</td>\n",
       "      <td>6.93</td>\n",
       "      <td>3.23</td>\n",
       "      <td>106.0</td>\n",
       "      <td>0</td>\n",
       "    </tr>\n",
       "    <tr>\n",
       "      <th>1</th>\n",
       "      <td>32</td>\n",
       "      <td>m</td>\n",
       "      <td>70.3</td>\n",
       "      <td>18.0</td>\n",
       "      <td>24.7</td>\n",
       "      <td>3.9</td>\n",
       "      <td>11.17</td>\n",
       "      <td>4.80</td>\n",
       "      <td>74.0</td>\n",
       "      <td>0</td>\n",
       "    </tr>\n",
       "    <tr>\n",
       "      <th>2</th>\n",
       "      <td>32</td>\n",
       "      <td>m</td>\n",
       "      <td>74.7</td>\n",
       "      <td>36.2</td>\n",
       "      <td>52.6</td>\n",
       "      <td>6.1</td>\n",
       "      <td>8.84</td>\n",
       "      <td>5.20</td>\n",
       "      <td>86.0</td>\n",
       "      <td>0</td>\n",
       "    </tr>\n",
       "    <tr>\n",
       "      <th>3</th>\n",
       "      <td>32</td>\n",
       "      <td>m</td>\n",
       "      <td>52.0</td>\n",
       "      <td>30.6</td>\n",
       "      <td>22.6</td>\n",
       "      <td>18.9</td>\n",
       "      <td>7.33</td>\n",
       "      <td>4.74</td>\n",
       "      <td>80.0</td>\n",
       "      <td>0</td>\n",
       "    </tr>\n",
       "    <tr>\n",
       "      <th>4</th>\n",
       "      <td>32</td>\n",
       "      <td>m</td>\n",
       "      <td>74.1</td>\n",
       "      <td>32.6</td>\n",
       "      <td>24.8</td>\n",
       "      <td>9.6</td>\n",
       "      <td>9.15</td>\n",
       "      <td>4.32</td>\n",
       "      <td>76.0</td>\n",
       "      <td>0</td>\n",
       "    </tr>\n",
       "    <tr>\n",
       "      <th>...</th>\n",
       "      <td>...</td>\n",
       "      <td>...</td>\n",
       "      <td>...</td>\n",
       "      <td>...</td>\n",
       "      <td>...</td>\n",
       "      <td>...</td>\n",
       "      <td>...</td>\n",
       "      <td>...</td>\n",
       "      <td>...</td>\n",
       "      <td>...</td>\n",
       "    </tr>\n",
       "    <tr>\n",
       "      <th>610</th>\n",
       "      <td>62</td>\n",
       "      <td>f</td>\n",
       "      <td>416.6</td>\n",
       "      <td>5.9</td>\n",
       "      <td>110.3</td>\n",
       "      <td>50.0</td>\n",
       "      <td>5.57</td>\n",
       "      <td>6.30</td>\n",
       "      <td>55.7</td>\n",
       "      <td>1</td>\n",
       "    </tr>\n",
       "    <tr>\n",
       "      <th>611</th>\n",
       "      <td>64</td>\n",
       "      <td>f</td>\n",
       "      <td>102.8</td>\n",
       "      <td>2.9</td>\n",
       "      <td>44.4</td>\n",
       "      <td>20.0</td>\n",
       "      <td>1.54</td>\n",
       "      <td>3.02</td>\n",
       "      <td>63.0</td>\n",
       "      <td>1</td>\n",
       "    </tr>\n",
       "    <tr>\n",
       "      <th>612</th>\n",
       "      <td>64</td>\n",
       "      <td>f</td>\n",
       "      <td>87.3</td>\n",
       "      <td>3.5</td>\n",
       "      <td>99.0</td>\n",
       "      <td>48.0</td>\n",
       "      <td>1.66</td>\n",
       "      <td>3.63</td>\n",
       "      <td>66.7</td>\n",
       "      <td>1</td>\n",
       "    </tr>\n",
       "    <tr>\n",
       "      <th>613</th>\n",
       "      <td>46</td>\n",
       "      <td>f</td>\n",
       "      <td>NaN</td>\n",
       "      <td>39.0</td>\n",
       "      <td>62.0</td>\n",
       "      <td>20.0</td>\n",
       "      <td>3.56</td>\n",
       "      <td>4.20</td>\n",
       "      <td>52.0</td>\n",
       "      <td>1</td>\n",
       "    </tr>\n",
       "    <tr>\n",
       "      <th>614</th>\n",
       "      <td>59</td>\n",
       "      <td>f</td>\n",
       "      <td>NaN</td>\n",
       "      <td>100.0</td>\n",
       "      <td>80.0</td>\n",
       "      <td>12.0</td>\n",
       "      <td>9.07</td>\n",
       "      <td>5.30</td>\n",
       "      <td>67.0</td>\n",
       "      <td>1</td>\n",
       "    </tr>\n",
       "  </tbody>\n",
       "</table>\n",
       "<p>615 rows × 10 columns</p>\n",
       "</div>"
      ],
      "text/plain": [
       "     Age Sex    ALP    ALT    AST   BIL    CHE  CHOL   CREA  Category\n",
       "0     32   m   52.5    7.7   22.1   7.5   6.93  3.23  106.0         0\n",
       "1     32   m   70.3   18.0   24.7   3.9  11.17  4.80   74.0         0\n",
       "2     32   m   74.7   36.2   52.6   6.1   8.84  5.20   86.0         0\n",
       "3     32   m   52.0   30.6   22.6  18.9   7.33  4.74   80.0         0\n",
       "4     32   m   74.1   32.6   24.8   9.6   9.15  4.32   76.0         0\n",
       "..   ...  ..    ...    ...    ...   ...    ...   ...    ...       ...\n",
       "610   62   f  416.6    5.9  110.3  50.0   5.57  6.30   55.7         1\n",
       "611   64   f  102.8    2.9   44.4  20.0   1.54  3.02   63.0         1\n",
       "612   64   f   87.3    3.5   99.0  48.0   1.66  3.63   66.7         1\n",
       "613   46   f    NaN   39.0   62.0  20.0   3.56  4.20   52.0         1\n",
       "614   59   f    NaN  100.0   80.0  12.0   9.07  5.30   67.0         1\n",
       "\n",
       "[615 rows x 10 columns]"
      ]
     },
     "execution_count": 3,
     "metadata": {},
     "output_type": "execute_result"
    }
   ],
   "source": [
    "# Проверяем как загрузился дата сет. Сразу видно присутствие NaN в столбцах\n",
    "df"
   ]
  },
  {
   "cell_type": "code",
   "execution_count": 4,
   "metadata": {},
   "outputs": [],
   "source": [
    "# Проверяем и заменяем пропуски в числовых столбцах дата сета.\n",
    "def fill_missing_num(x):\n",
    "    num_var = list(x._get_numeric_data().columns)\n",
    "    for col_names in num_var:        \n",
    "        prep_med = SimpleImputer(missing_values=np.nan, strategy='mean')\n",
    "        prep_med.fit(x[num_var])\n",
    "        x[num_var] = prep_med.transform(x[num_var])\n",
    "    return(x)"
   ]
  },
  {
   "cell_type": "code",
   "execution_count": 5,
   "metadata": {},
   "outputs": [],
   "source": [
    "# Заполняем значения NaN с помощью SimpleImputer.\n",
    "from sklearn.impute import SimpleImputer\n",
    "df = fill_missing_num(df)"
   ]
  },
  {
   "cell_type": "code",
   "execution_count": 6,
   "metadata": {},
   "outputs": [],
   "source": [
    "# Производим кодирование всех качественных переменных, в нашем случае только столбец Sex.\n",
    "def encoding_char(x):\n",
    "    char_var = list(set(x.columns) - set(x._get_numeric_data().columns))\n",
    "    for col_names in char_var:\n",
    "        f = pd.factorize(x[col_names])\n",
    "        x[col_names] = pd.factorize(x[col_names])[0]\n",
    "    return(x)"
   ]
  },
  {
   "cell_type": "code",
   "execution_count": 7,
   "metadata": {},
   "outputs": [],
   "source": [
    "df = encoding_char(df)"
   ]
  },
  {
   "cell_type": "code",
   "execution_count": 8,
   "metadata": {},
   "outputs": [],
   "source": [
    "# Делим наш дата сет на обучающую и тестирующую выборку в пропорции 20/80.\n",
    "X = df.iloc[:, :-1].values\n",
    "y = df.iloc[:, -1].values\n",
    "from sklearn.model_selection import train_test_split\n",
    "X_train, X_test, y_train, y_test = train_test_split(X, y, test_size=0.2, random_state=13)"
   ]
  },
  {
   "cell_type": "code",
   "execution_count": 9,
   "metadata": {},
   "outputs": [],
   "source": [
    "# Производим шкалирование наших данных без нашей эдогенной переменной Category.\n",
    "from sklearn.preprocessing import StandardScaler\n",
    "sc_X = StandardScaler().fit(X_train)\n",
    "X_train = sc_X.transform(X_train)\n",
    "X_test = sc_X.transform(X_test)"
   ]
  },
  {
   "cell_type": "code",
   "execution_count": 10,
   "metadata": {},
   "outputs": [
    {
     "name": "stdout",
     "output_type": "stream",
     "text": [
      "Optimization terminated successfully.\n",
      "         Current function value: 0.312738\n",
      "         Iterations 8\n",
      "                         Results: Logit\n",
      "=================================================================\n",
      "Model:              Logit            Pseudo R-squared: 0.214     \n",
      "Dependent Variable: y                AIC:              325.7338  \n",
      "Date:               2020-11-23 11:23 BIC:              363.5201  \n",
      "No. Observations:   492              Log-Likelihood:   -153.87   \n",
      "Df Model:           8                LL-Null:          -195.80   \n",
      "Df Residuals:       483              LLR p-value:      8.1273e-15\n",
      "Converged:          1.0000           Scale:            1.0000    \n",
      "No. Iterations:     8.0000                                       \n",
      "--------------------------------------------------------------------\n",
      "       Coef.     Std.Err.       z       P>|z|      [0.025     0.975]\n",
      "--------------------------------------------------------------------\n",
      "x1     0.0023      0.1505     0.0155    0.9877    -0.2927     0.2973\n",
      "x2     0.1901      0.1652     1.1504    0.2500    -0.1338     0.5139\n",
      "x3    -0.0718      0.2285    -0.3145    0.7532    -0.5196     0.3760\n",
      "x4    -1.4307      0.2335    -6.1277    0.0000    -1.8883    -0.9731\n",
      "x5     7.3728      0.6351    11.6094    0.0000     6.1281     8.6175\n",
      "x6     1.1551      0.3660     3.1556    0.0016     0.4376     1.8725\n",
      "x7    -0.2509      0.1840    -1.3632    0.1728    -0.6115     0.1098\n",
      "x8    -0.1494      0.1762    -0.8479    0.3965    -0.4947     0.1959\n",
      "x9     0.0912      0.1883     0.4845    0.6281    -0.2779     0.4604\n",
      "=================================================================\n",
      "\n"
     ]
    }
   ],
   "source": [
    "# Строим базовую модель и смотрим на полученный отчет. Можно сделать вывод, что значимых перменных только две, это х4 (ALT) и х5 (AST). Будем использовать их для построения наших классификаторов.\n",
    "import statsmodels.api as sm\n",
    "lr = sm.Logit(y_train, X_train).fit()\n",
    "print(lr.summary2())"
   ]
  },
  {
   "cell_type": "code",
   "execution_count": 11,
   "metadata": {},
   "outputs": [
    {
     "name": "stdout",
     "output_type": "stream",
     "text": [
      "4\n",
      "[False False False False  True  True False  True  True]\n",
      "[4 6 2 3 1 1 5 1 1]\n"
     ]
    }
   ],
   "source": [
    "# Automatic Feature Selection\n",
    "from sklearn.feature_selection import RFECV\n",
    "from sklearn.linear_model import LogisticRegression\n",
    "estimator=LogisticRegression(random_state=123)\n",
    "selector=RFECV(estimator, step=1)\n",
    "selector=selector.fit(X_train, y_train)\n",
    "print(selector.n_features_)\n",
    "print(selector.support_)\n",
    "print(selector.ranking_)"
   ]
  },
  {
   "cell_type": "code",
   "execution_count": 12,
   "metadata": {},
   "outputs": [
    {
     "name": "stdout",
     "output_type": "stream",
     "text": [
      "[4, 5, 7, 8]\n",
      "№\tIndex\tFeature\n",
      "0\t4\tAST\n",
      "1\t5\tBIL\n",
      "2\t7\tCHOL\n",
      "3\t8\tCREA\n"
     ]
    }
   ],
   "source": [
    "# Selected Features\n",
    "selected_columns=[]\n",
    "for i in range(len(X_train[0])):\n",
    "    if selector.support_[i]==1:\n",
    "        selected_columns.append(i)\n",
    "print(selected_columns)\n",
    "print('№\\tIndex\\tFeature')\n",
    "i=0\n",
    "for column in selected_columns:\n",
    "    print(str(i)+'\\t'+str(column)+'\\t'+str(df.columns[column]))\n",
    "    i=i+1"
   ]
  },
  {
   "cell_type": "code",
   "execution_count": 13,
   "metadata": {},
   "outputs": [],
   "source": [
    "X_train_select=X_train[:, selected_columns]\n",
    "X_test_select=X_test[:, selected_columns]"
   ]
  },
  {
   "cell_type": "code",
   "execution_count": 14,
   "metadata": {},
   "outputs": [],
   "source": [
    "# Остлавляем только значимые переменные.\n",
    "X_train = X_train[:,[3,4]]\n",
    "X_test = X_test[:,[3,4]]"
   ]
  },
  {
   "cell_type": "code",
   "execution_count": 15,
   "metadata": {},
   "outputs": [],
   "source": [
    "# Обучаем модель логистической регрессии.\n",
    "from sklearn.linear_model import LogisticRegression\n",
    "lr = LogisticRegression(random_state = 13).fit(X_train, y_train)"
   ]
  },
  {
   "cell_type": "code",
   "execution_count": 16,
   "metadata": {},
   "outputs": [
    {
     "data": {
      "text/plain": [
       "0.959349593495935"
      ]
     },
     "execution_count": 16,
     "metadata": {},
     "output_type": "execute_result"
    }
   ],
   "source": [
    "# Делаем прогноз на тестовой выборке. Уровень качества модели очень высок, превышает 95%, то  есть 95% объектов распознано верно.\n",
    "y_pred = lr.predict(X_test)\n",
    "lr.score(X_test,y_test)"
   ]
  },
  {
   "cell_type": "code",
   "execution_count": 17,
   "metadata": {},
   "outputs": [
    {
     "name": "stdout",
     "output_type": "stream",
     "text": [
      "[[108   0]\n",
      " [  5  10]]\n"
     ]
    }
   ],
   "source": [
    "# Строим таблицу сопряженности. Можно сделать вывод, что 5 положительных случая ложно определены как отрицательные. \n",
    "from sklearn.metrics import confusion_matrix\n",
    "cm = confusion_matrix(y_test, y_pred)\n",
    "print(cm)"
   ]
  },
  {
   "cell_type": "code",
   "execution_count": 18,
   "metadata": {},
   "outputs": [
    {
     "name": "stderr",
     "output_type": "stream",
     "text": [
      "*c* argument looks like a single numeric RGB or RGBA sequence, which should be avoided as value-mapping will have precedence in case its length matches with *x* & *y*.  Please use the *color* keyword-argument or provide a 2-D array with a single row if you intend to specify the same RGB or RGBA value for all points.\n",
      "*c* argument looks like a single numeric RGB or RGBA sequence, which should be avoided as value-mapping will have precedence in case its length matches with *x* & *y*.  Please use the *color* keyword-argument or provide a 2-D array with a single row if you intend to specify the same RGB or RGBA value for all points.\n"
     ]
    },
    {
     "data": {
      "image/png": "[encoded data removed]",
      "text/plain": [
       "<Figure size 432x288 with 1 Axes>"
      ]
     },
     "metadata": {
      "needs_background": "light"
     },
     "output_type": "display_data"
    }
   ],
   "source": [
    "# Строим область значений. Они отделяются линейно. Зелёные точки - больные люди, красные точки - здоровые. Люди с повышенным значением AST более склонны к болезни. \n",
    "from matplotlib.colors import ListedColormap\n",
    "X_set, y_set = X_test, y_test\n",
    "X1, X2 = np.meshgrid(np.arange(start = X_set[:, 0].min() - 1, stop = X_set[:, 0].max() + 1, step = 0.01),\n",
    "                     np.arange(start = X_set[:, 1].min() - 1, stop = X_set[:, 1].max() + 1, step = 0.01))\n",
    "plt.contourf(X1, X2, lr.predict(np.array([X1.ravel(), X2.ravel()]).T).reshape(X1.shape),\n",
    "             alpha = 0.75, cmap = ListedColormap(('red', 'green')))\n",
    "plt.xlim(X1.min(), X1.max())\n",
    "plt.ylim(X2.min(), X2.max())\n",
    "for i, j in enumerate(np.unique(y_set)):\n",
    "    plt.scatter(X_set[y_set == j, 0], X_set[y_set == j, 1],\n",
    "                c = ListedColormap(('red', 'green'))(i), label = j)\n",
    "plt.title('Logistic Regression (Test set)')\n",
    "plt.xlabel('ALT')\n",
    "plt.ylabel('AST')\n",
    "plt.legend()\n",
    "plt.show()"
   ]
  },
  {
   "cell_type": "code",
   "execution_count": 19,
   "metadata": {},
   "outputs": [],
   "source": [
    "# Устанавливаем необходимые пакеты Keras.\n",
    "import keras\n",
    "from keras.models import Sequential\n",
    "from keras.layers import Dense"
   ]
  },
  {
   "cell_type": "code",
   "execution_count": 32,
   "metadata": {},
   "outputs": [],
   "source": [
    "# Строим нейронную сеть прямой передачи сигнала. На входном слое 8 нейрона (усложнее). Используем функцию relu, которая позволит учесть наличие линейнносоти в исходных данных. На втором слое выбирем 1 нейрон используя сигмоидальную функцию. \n",
    "cnn = Sequential()\n",
    "cnn.add(Dense(units = 8,  activation = 'relu', input_dim = 2))\n",
    "cnn.add(Dense(units = 1,  activation = 'sigmoid'))\n",
    "cnn.compile(optimizer = 'adam', loss = 'binary_crossentropy', metrics = ['accuracy'])"
   ]
  },
  {
   "cell_type": "code",
   "execution_count": 33,
   "metadata": {},
   "outputs": [
    {
     "name": "stdout",
     "output_type": "stream",
     "text": [
      "Epoch 1/100\n",
      "62/62 [==============================] - 0s 479us/step - loss: 0.7554 - accuracy: 0.2683\n",
      "Epoch 2/100\n",
      "62/62 [==============================] - 0s 466us/step - loss: 0.6316 - accuracy: 0.8374\n",
      "Epoch 3/100\n",
      "62/62 [==============================] - 0s 460us/step - loss: 0.5462 - accuracy: 0.8679\n",
      "Epoch 4/100\n",
      "62/62 [==============================] - 0s 466us/step - loss: 0.4816 - accuracy: 0.8679\n",
      "Epoch 5/100\n",
      "62/62 [==============================] - 0s 466us/step - loss: 0.4291 - accuracy: 0.8740\n",
      "Epoch 6/100\n",
      "62/62 [==============================] - 0s 483us/step - loss: 0.3866 - accuracy: 0.8862\n",
      "Epoch 7/100\n",
      "62/62 [==============================] - 0s 486us/step - loss: 0.3521 - accuracy: 0.8882\n",
      "Epoch 8/100\n",
      "62/62 [==============================] - 0s 451us/step - loss: 0.3243 - accuracy: 0.8923\n",
      "Epoch 9/100\n",
      "62/62 [==============================] - 0s 466us/step - loss: 0.3017 - accuracy: 0.8943\n",
      "Epoch 10/100\n",
      "62/62 [==============================] - 0s 464us/step - loss: 0.2832 - accuracy: 0.8943\n",
      "Epoch 11/100\n",
      "62/62 [==============================] - 0s 482us/step - loss: 0.2678 - accuracy: 0.8943\n",
      "Epoch 12/100\n",
      "62/62 [==============================] - 0s 464us/step - loss: 0.2550 - accuracy: 0.9024\n",
      "Epoch 13/100\n",
      "62/62 [==============================] - 0s 462us/step - loss: 0.2445 - accuracy: 0.9045\n",
      "Epoch 14/100\n",
      "62/62 [==============================] - 0s 450us/step - loss: 0.2356 - accuracy: 0.9045\n",
      "Epoch 15/100\n",
      "62/62 [==============================] - 0s 450us/step - loss: 0.2284 - accuracy: 0.9045\n",
      "Epoch 16/100\n",
      "62/62 [==============================] - 0s 518us/step - loss: 0.2222 - accuracy: 0.9106\n",
      "Epoch 17/100\n",
      "62/62 [==============================] - 0s 451us/step - loss: 0.2166 - accuracy: 0.9167\n",
      "Epoch 18/100\n",
      "62/62 [==============================] - 0s 476us/step - loss: 0.2121 - accuracy: 0.9167\n",
      "Epoch 19/100\n",
      "62/62 [==============================] - 0s 483us/step - loss: 0.2081 - accuracy: 0.9228\n",
      "Epoch 20/100\n",
      "62/62 [==============================] - 0s 466us/step - loss: 0.2044 - accuracy: 0.9268\n",
      "Epoch 21/100\n",
      "62/62 [==============================] - 0s 466us/step - loss: 0.2009 - accuracy: 0.9289\n",
      "Epoch 22/100\n",
      "62/62 [==============================] - 0s 542us/step - loss: 0.1977 - accuracy: 0.9289\n",
      "Epoch 23/100\n",
      "62/62 [==============================] - 0s 467us/step - loss: 0.1949 - accuracy: 0.9309\n",
      "Epoch 24/100\n",
      "62/62 [==============================] - 0s 503us/step - loss: 0.1921 - accuracy: 0.9370\n",
      "Epoch 25/100\n",
      "62/62 [==============================] - 0s 464us/step - loss: 0.1895 - accuracy: 0.9370\n",
      "Epoch 26/100\n",
      "62/62 [==============================] - 0s 467us/step - loss: 0.1871 - accuracy: 0.9390\n",
      "Epoch 27/100\n",
      "62/62 [==============================] - 0s 498us/step - loss: 0.1851 - accuracy: 0.9390\n",
      "Epoch 28/100\n",
      "62/62 [==============================] - 0s 460us/step - loss: 0.1830 - accuracy: 0.9390\n",
      "Epoch 29/100\n",
      "62/62 [==============================] - 0s 502us/step - loss: 0.1811 - accuracy: 0.9411\n",
      "Epoch 30/100\n",
      "62/62 [==============================] - 0s 466us/step - loss: 0.1795 - accuracy: 0.9411\n",
      "Epoch 31/100\n",
      "62/62 [==============================] - 0s 483us/step - loss: 0.1777 - accuracy: 0.9411\n",
      "Epoch 32/100\n",
      "62/62 [==============================] - 0s 477us/step - loss: 0.1763 - accuracy: 0.9370\n",
      "Epoch 33/100\n",
      "62/62 [==============================] - 0s 450us/step - loss: 0.1748 - accuracy: 0.9370\n",
      "Epoch 34/100\n",
      "62/62 [==============================] - 0s 450us/step - loss: 0.1738 - accuracy: 0.9370\n",
      "Epoch 35/100\n",
      "62/62 [==============================] - 0s 515us/step - loss: 0.1723 - accuracy: 0.9390\n",
      "Epoch 36/100\n",
      "62/62 [==============================] - 0s 483us/step - loss: 0.1712 - accuracy: 0.9390\n",
      "Epoch 37/100\n",
      "62/62 [==============================] - 0s 483us/step - loss: 0.1700 - accuracy: 0.9390\n",
      "Epoch 38/100\n",
      "62/62 [==============================] - 0s 483us/step - loss: 0.1690 - accuracy: 0.9390\n",
      "Epoch 39/100\n",
      "62/62 [==============================] - 0s 467us/step - loss: 0.1684 - accuracy: 0.9390\n",
      "Epoch 40/100\n",
      "62/62 [==============================] - 0s 595us/step - loss: 0.1672 - accuracy: 0.9411\n",
      "Epoch 41/100\n",
      "62/62 [==============================] - 0s 488us/step - loss: 0.1658 - accuracy: 0.9411\n",
      "Epoch 42/100\n",
      "62/62 [==============================] - 0s 531us/step - loss: 0.1645 - accuracy: 0.9411\n",
      "Epoch 43/100\n",
      "62/62 [==============================] - 0s 517us/step - loss: 0.1631 - accuracy: 0.9411\n",
      "Epoch 44/100\n",
      "62/62 [==============================] - 0s 515us/step - loss: 0.1616 - accuracy: 0.9411\n",
      "Epoch 45/100\n",
      "62/62 [==============================] - 0s 531us/step - loss: 0.1592 - accuracy: 0.9431\n",
      "Epoch 46/100\n",
      "62/62 [==============================] - 0s 515us/step - loss: 0.1569 - accuracy: 0.9431\n",
      "Epoch 47/100\n",
      "62/62 [==============================] - 0s 467us/step - loss: 0.1555 - accuracy: 0.9431\n",
      "Epoch 48/100\n",
      "62/62 [==============================] - 0s 515us/step - loss: 0.1539 - accuracy: 0.9431\n",
      "Epoch 49/100\n",
      "62/62 [==============================] - 0s 475us/step - loss: 0.1524 - accuracy: 0.9431\n",
      "Epoch 50/100\n",
      "62/62 [==============================] - 0s 472us/step - loss: 0.1509 - accuracy: 0.9431\n",
      "Epoch 51/100\n",
      "62/62 [==============================] - 0s 435us/step - loss: 0.1496 - accuracy: 0.9431\n",
      "Epoch 52/100\n",
      "62/62 [==============================] - 0s 531us/step - loss: 0.1483 - accuracy: 0.9411\n",
      "Epoch 53/100\n",
      "62/62 [==============================] - 0s 515us/step - loss: 0.1471 - accuracy: 0.9431\n",
      "Epoch 54/100\n",
      "62/62 [==============================] - 0s 450us/step - loss: 0.1460 - accuracy: 0.9431\n",
      "Epoch 55/100\n",
      "62/62 [==============================] - 0s 466us/step - loss: 0.1450 - accuracy: 0.9431\n",
      "Epoch 56/100\n",
      "62/62 [==============================] - 0s 450us/step - loss: 0.1439 - accuracy: 0.9431\n",
      "Epoch 57/100\n",
      "62/62 [==============================] - 0s 442us/step - loss: 0.1430 - accuracy: 0.9431\n",
      "Epoch 58/100\n",
      "62/62 [==============================] - 0s 434us/step - loss: 0.1420 - accuracy: 0.9431\n",
      "Epoch 59/100\n",
      "62/62 [==============================] - 0s 435us/step - loss: 0.1410 - accuracy: 0.9431\n",
      "Epoch 60/100\n",
      "62/62 [==============================] - 0s 466us/step - loss: 0.1402 - accuracy: 0.9431\n",
      "Epoch 61/100\n",
      "62/62 [==============================] - 0s 450us/step - loss: 0.1394 - accuracy: 0.9431\n",
      "Epoch 62/100\n",
      "62/62 [==============================] - 0s 450us/step - loss: 0.1388 - accuracy: 0.9431\n",
      "Epoch 63/100\n",
      "62/62 [==============================] - 0s 450us/step - loss: 0.1384 - accuracy: 0.9431\n",
      "Epoch 64/100\n",
      "62/62 [==============================] - 0s 442us/step - loss: 0.1376 - accuracy: 0.9431\n",
      "Epoch 65/100\n",
      "62/62 [==============================] - 0s 453us/step - loss: 0.1371 - accuracy: 0.9451\n",
      "Epoch 66/100\n",
      "62/62 [==============================] - 0s 440us/step - loss: 0.1363 - accuracy: 0.9451\n",
      "Epoch 67/100\n",
      "62/62 [==============================] - 0s 464us/step - loss: 0.1364 - accuracy: 0.9451\n",
      "Epoch 68/100\n",
      "62/62 [==============================] - 0s 439us/step - loss: 0.1352 - accuracy: 0.9472\n",
      "Epoch 69/100\n",
      "62/62 [==============================] - 0s 450us/step - loss: 0.1347 - accuracy: 0.9472\n",
      "Epoch 70/100\n",
      "62/62 [==============================] - 0s 450us/step - loss: 0.1342 - accuracy: 0.9492\n",
      "Epoch 71/100\n",
      "62/62 [==============================] - 0s 450us/step - loss: 0.1337 - accuracy: 0.9492\n",
      "Epoch 72/100\n",
      "62/62 [==============================] - 0s 439us/step - loss: 0.1332 - accuracy: 0.9492\n",
      "Epoch 73/100\n",
      "62/62 [==============================] - 0s 434us/step - loss: 0.1330 - accuracy: 0.9512\n",
      "Epoch 74/100\n",
      "62/62 [==============================] - 0s 463us/step - loss: 0.1322 - accuracy: 0.9492\n",
      "Epoch 75/100\n",
      "62/62 [==============================] - 0s 466us/step - loss: 0.1320 - accuracy: 0.9512\n",
      "Epoch 76/100\n",
      "62/62 [==============================] - 0s 480us/step - loss: 0.1316 - accuracy: 0.9512\n",
      "Epoch 77/100\n",
      "62/62 [==============================] - 0s 499us/step - loss: 0.1311 - accuracy: 0.9512\n",
      "Epoch 78/100\n",
      "62/62 [==============================] - 0s 473us/step - loss: 0.1308 - accuracy: 0.9512\n",
      "Epoch 79/100\n",
      "62/62 [==============================] - 0s 498us/step - loss: 0.1305 - accuracy: 0.9512\n",
      "Epoch 80/100\n",
      "62/62 [==============================] - 0s 466us/step - loss: 0.1303 - accuracy: 0.9533\n",
      "Epoch 81/100\n",
      "62/62 [==============================] - 0s 489us/step - loss: 0.1298 - accuracy: 0.9533\n",
      "Epoch 82/100\n",
      "62/62 [==============================] - 0s 479us/step - loss: 0.1295 - accuracy: 0.9533\n",
      "Epoch 83/100\n",
      "62/62 [==============================] - 0s 450us/step - loss: 0.1291 - accuracy: 0.9533\n",
      "Epoch 84/100\n",
      "62/62 [==============================] - 0s 468us/step - loss: 0.1288 - accuracy: 0.9553\n",
      "Epoch 85/100\n",
      "62/62 [==============================] - 0s 450us/step - loss: 0.1285 - accuracy: 0.9553\n",
      "Epoch 86/100\n",
      "62/62 [==============================] - 0s 467us/step - loss: 0.1284 - accuracy: 0.9553\n",
      "Epoch 87/100\n",
      "62/62 [==============================] - 0s 483us/step - loss: 0.1279 - accuracy: 0.9553\n",
      "Epoch 88/100\n",
      "62/62 [==============================] - 0s 499us/step - loss: 0.1277 - accuracy: 0.9553\n",
      "Epoch 89/100\n",
      "62/62 [==============================] - 0s 527us/step - loss: 0.1275 - accuracy: 0.9553\n",
      "Epoch 90/100\n",
      "62/62 [==============================] - 0s 499us/step - loss: 0.1272 - accuracy: 0.9553\n",
      "Epoch 91/100\n",
      "62/62 [==============================] - 0s 499us/step - loss: 0.1269 - accuracy: 0.9553\n",
      "Epoch 92/100\n",
      "62/62 [==============================] - 0s 499us/step - loss: 0.1266 - accuracy: 0.9553\n",
      "Epoch 93/100\n",
      "62/62 [==============================] - 0s 498us/step - loss: 0.1266 - accuracy: 0.9553\n",
      "Epoch 94/100\n",
      "62/62 [==============================] - 0s 644us/step - loss: 0.1264 - accuracy: 0.9553\n",
      "Epoch 95/100\n",
      "62/62 [==============================] - 0s 483us/step - loss: 0.1262 - accuracy: 0.9553\n",
      "Epoch 96/100\n",
      "62/62 [==============================] - 0s 483us/step - loss: 0.1262 - accuracy: 0.9573\n",
      "Epoch 97/100\n",
      "62/62 [==============================] - 0s 463us/step - loss: 0.1257 - accuracy: 0.9553\n",
      "Epoch 98/100\n",
      "62/62 [==============================] - 0s 531us/step - loss: 0.1255 - accuracy: 0.9553\n",
      "Epoch 99/100\n",
      "62/62 [==============================] - 0s 483us/step - loss: 0.1254 - accuracy: 0.9553\n",
      "Epoch 100/100\n",
      "62/62 [==============================] - 0s 483us/step - loss: 0.1251 - accuracy: 0.9553\n"
     ]
    },
    {
     "data": {
      "text/plain": [
       "<tensorflow.python.keras.callbacks.History at 0x19f0b0ffa90>"
      ]
     },
     "execution_count": 33,
     "metadata": {},
     "output_type": "execute_result"
    }
   ],
   "source": [
    "# Обучаем нейронную сеть в течении 100 эпох.\n",
    "cnn.fit(X_train, y_train, epochs = 100, batch_size = 8)"
   ]
  },
  {
   "cell_type": "code",
   "execution_count": 34,
   "metadata": {},
   "outputs": [],
   "source": [
    "# Строим прогноз на тестовой выборке.\n",
    "y_pred = cnn.predict(X_test)\n",
    "y_pred = (y_pred > 0.5)"
   ]
  },
  {
   "cell_type": "code",
   "execution_count": 35,
   "metadata": {},
   "outputs": [
    {
     "name": "stdout",
     "output_type": "stream",
     "text": [
      "[[108   0]\n",
      " [  3  12]]\n"
     ]
    }
   ],
   "source": [
    "# Строим таблицу сопряженности. Можно сделать вывод, что 3 положительных случая ложно определены как отрицательные, что уже лучше, чем модель построенная ранее.\n",
    "from sklearn.metrics import confusion_matrix\n",
    "cm = confusion_matrix(y_test, y_pred)\n",
    "print(cm)"
   ]
  },
  {
   "cell_type": "code",
   "execution_count": 36,
   "metadata": {},
   "outputs": [
    {
     "name": "stderr",
     "output_type": "stream",
     "text": [
      "*c* argument looks like a single numeric RGB or RGBA sequence, which should be avoided as value-mapping will have precedence in case its length matches with *x* & *y*.  Please use the *color* keyword-argument or provide a 2-D array with a single row if you intend to specify the same RGB or RGBA value for all points.\n",
      "*c* argument looks like a single numeric RGB or RGBA sequence, which should be avoided as value-mapping will have precedence in case its length matches with *x* & *y*.  Please use the *color* keyword-argument or provide a 2-D array with a single row if you intend to specify the same RGB or RGBA value for all points.\n"
     ]
    },
    {
     "data": {
      "image/png": "[encoded data removed]",
      "text/plain": [
       "<Figure size 432x288 with 1 Axes>"
      ]
     },
     "metadata": {
      "needs_background": "light"
     },
     "output_type": "display_data"
    }
   ],
   "source": [
    "# Строим область значений. Они отделяются менее линейно в сравнении с предыдущей моделью. Однако после усложения модели после увеличения входных нейронов с 2 до 8, качество модели улучшилось. \n",
    "from matplotlib.colors import ListedColormap\n",
    "X_set, y_set = X_test, y_test\n",
    "X1, X2 = np.meshgrid(np.arange(start = X_set[:, 0].min() - 1, stop = X_set[:, 0].max() + 1, step = 0.01),\n",
    "                     np.arange(start = X_set[:, 1].min() - 1, stop = X_set[:, 1].max() + 1, step = 0.01))\n",
    "plt.contourf(X1, X2, cnn.predict(np.array([X1.ravel(), X2.ravel()]).T).reshape(X1.shape),\n",
    "             alpha = 0.75, cmap = ListedColormap(('red', 'green')))\n",
    "plt.xlim(X1.min(), X1.max())\n",
    "plt.ylim(X2.min(), X2.max())\n",
    "for i, j in enumerate(np.unique(y_set)):\n",
    "    plt.scatter(X_set[y_set == j, 0], X_set[y_set == j, 1],\n",
    "                c = ListedColormap(('red', 'green'))(i), label = j)\n",
    "plt.title('NN (Test set)')\n",
    "plt.xlabel('ALT')\n",
    "plt.ylabel('AST')\n",
    "plt.legend()\n",
    "plt.show()"
   ]
  }
 ],
 "metadata": {
  "kernelspec": {
   "display_name": "Python 3",
   "language": "python",
   "name": "python3"
  },
  "language_info": {
   "codemirror_mode": {
    "name": "ipython",
    "version": 3
   },
   "file_extension": ".py",
   "mimetype": "text/x-python",
   "name": "python",
   "nbconvert_exporter": "python",
   "pygments_lexer": "ipython3",
   "version": "3.8.3"
  }
 },
 "nbformat": 4,
 "nbformat_minor": 4
}
