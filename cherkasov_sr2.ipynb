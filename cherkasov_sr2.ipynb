{
 "cells": [
  {
   "cell_type": "code",
   "execution_count": 1,
   "metadata": {},
   "outputs": [],
   "source": [
    "#Загружаем наш дата сет. Мы имеем дата сет из 11 колонок (fixed acidity, volatile acidity, residual sugar, chlorides, free sulfur dioxide, total sulfur dioxide, density, pH, alcohol, quality) и 1599 строк. Крайний столбец quality выступает как классификатор."
   ]
  },
  {
   "cell_type": "code",
   "execution_count": 2,
   "metadata": {},
   "outputs": [],
   "source": [
    "# Загружаем необходимые библиотеки для начала работы (Numpy, Matplotlib.pyplot ,Pandas)\n",
    "import numpy as np\n",
    "import matplotlib.pyplot as plt\n",
    "import pandas as pd"
   ]
  },
  {
   "cell_type": "code",
   "execution_count": 3,
   "metadata": {},
   "outputs": [],
   "source": [
    "# Загружаем дата сет в формате сsv, разделитель запятые.\n",
    "df = pd.read_csv('vino2.csv', sep=',' )"
   ]
  },
  {
   "cell_type": "code",
   "execution_count": 4,
   "metadata": {},
   "outputs": [
    {
     "data": {
      "text/html": [
       "<div>\n",
       "<style scoped>\n",
       "    .dataframe tbody tr th:only-of-type {\n",
       "        vertical-align: middle;\n",
       "    }\n",
       "\n",
       "    .dataframe tbody tr th {\n",
       "        vertical-align: top;\n",
       "    }\n",
       "\n",
       "    .dataframe thead th {\n",
       "        text-align: right;\n",
       "    }\n",
       "</style>\n",
       "<table border=\"1\" class=\"dataframe\">\n",
       "  <thead>\n",
       "    <tr style=\"text-align: right;\">\n",
       "      <th></th>\n",
       "      <th>fixedacidity</th>\n",
       "      <th>volatileacidity</th>\n",
       "      <th>residualsugar</th>\n",
       "      <th>chlorides</th>\n",
       "      <th>freesulfurdioxide</th>\n",
       "      <th>totalsulfurdioxide</th>\n",
       "      <th>density</th>\n",
       "      <th>pH</th>\n",
       "      <th>sulphates</th>\n",
       "      <th>alcohol</th>\n",
       "      <th>quality</th>\n",
       "    </tr>\n",
       "  </thead>\n",
       "  <tbody>\n",
       "    <tr>\n",
       "      <th>0</th>\n",
       "      <td>7.4</td>\n",
       "      <td>0.700</td>\n",
       "      <td>1.9</td>\n",
       "      <td>0.076</td>\n",
       "      <td>11.0</td>\n",
       "      <td>34.0</td>\n",
       "      <td>0.99780</td>\n",
       "      <td>3.51</td>\n",
       "      <td>0.56</td>\n",
       "      <td>9.4</td>\n",
       "      <td>0</td>\n",
       "    </tr>\n",
       "    <tr>\n",
       "      <th>1</th>\n",
       "      <td>7.8</td>\n",
       "      <td>0.880</td>\n",
       "      <td>2.6</td>\n",
       "      <td>0.098</td>\n",
       "      <td>25.0</td>\n",
       "      <td>67.0</td>\n",
       "      <td>0.99680</td>\n",
       "      <td>3.20</td>\n",
       "      <td>0.68</td>\n",
       "      <td>9.8</td>\n",
       "      <td>0</td>\n",
       "    </tr>\n",
       "    <tr>\n",
       "      <th>2</th>\n",
       "      <td>7.8</td>\n",
       "      <td>0.760</td>\n",
       "      <td>2.3</td>\n",
       "      <td>0.092</td>\n",
       "      <td>15.0</td>\n",
       "      <td>54.0</td>\n",
       "      <td>0.99700</td>\n",
       "      <td>3.26</td>\n",
       "      <td>0.65</td>\n",
       "      <td>9.8</td>\n",
       "      <td>0</td>\n",
       "    </tr>\n",
       "    <tr>\n",
       "      <th>3</th>\n",
       "      <td>11.2</td>\n",
       "      <td>0.280</td>\n",
       "      <td>1.9</td>\n",
       "      <td>0.075</td>\n",
       "      <td>17.0</td>\n",
       "      <td>60.0</td>\n",
       "      <td>0.99800</td>\n",
       "      <td>3.16</td>\n",
       "      <td>0.58</td>\n",
       "      <td>9.8</td>\n",
       "      <td>1</td>\n",
       "    </tr>\n",
       "    <tr>\n",
       "      <th>4</th>\n",
       "      <td>7.4</td>\n",
       "      <td>0.700</td>\n",
       "      <td>1.9</td>\n",
       "      <td>0.076</td>\n",
       "      <td>11.0</td>\n",
       "      <td>34.0</td>\n",
       "      <td>0.99780</td>\n",
       "      <td>3.51</td>\n",
       "      <td>0.56</td>\n",
       "      <td>9.4</td>\n",
       "      <td>0</td>\n",
       "    </tr>\n",
       "    <tr>\n",
       "      <th>...</th>\n",
       "      <td>...</td>\n",
       "      <td>...</td>\n",
       "      <td>...</td>\n",
       "      <td>...</td>\n",
       "      <td>...</td>\n",
       "      <td>...</td>\n",
       "      <td>...</td>\n",
       "      <td>...</td>\n",
       "      <td>...</td>\n",
       "      <td>...</td>\n",
       "      <td>...</td>\n",
       "    </tr>\n",
       "    <tr>\n",
       "      <th>1594</th>\n",
       "      <td>6.2</td>\n",
       "      <td>0.600</td>\n",
       "      <td>2.0</td>\n",
       "      <td>0.090</td>\n",
       "      <td>32.0</td>\n",
       "      <td>44.0</td>\n",
       "      <td>0.99490</td>\n",
       "      <td>3.45</td>\n",
       "      <td>0.58</td>\n",
       "      <td>10.5</td>\n",
       "      <td>0</td>\n",
       "    </tr>\n",
       "    <tr>\n",
       "      <th>1595</th>\n",
       "      <td>5.9</td>\n",
       "      <td>0.550</td>\n",
       "      <td>2.2</td>\n",
       "      <td>0.062</td>\n",
       "      <td>39.0</td>\n",
       "      <td>51.0</td>\n",
       "      <td>0.99512</td>\n",
       "      <td>3.52</td>\n",
       "      <td>0.76</td>\n",
       "      <td>11.2</td>\n",
       "      <td>1</td>\n",
       "    </tr>\n",
       "    <tr>\n",
       "      <th>1596</th>\n",
       "      <td>6.3</td>\n",
       "      <td>0.510</td>\n",
       "      <td>2.3</td>\n",
       "      <td>0.076</td>\n",
       "      <td>29.0</td>\n",
       "      <td>40.0</td>\n",
       "      <td>0.99574</td>\n",
       "      <td>3.42</td>\n",
       "      <td>0.75</td>\n",
       "      <td>11.0</td>\n",
       "      <td>1</td>\n",
       "    </tr>\n",
       "    <tr>\n",
       "      <th>1597</th>\n",
       "      <td>5.9</td>\n",
       "      <td>0.645</td>\n",
       "      <td>2.0</td>\n",
       "      <td>0.075</td>\n",
       "      <td>32.0</td>\n",
       "      <td>44.0</td>\n",
       "      <td>0.99547</td>\n",
       "      <td>3.57</td>\n",
       "      <td>0.71</td>\n",
       "      <td>10.2</td>\n",
       "      <td>0</td>\n",
       "    </tr>\n",
       "    <tr>\n",
       "      <th>1598</th>\n",
       "      <td>6.0</td>\n",
       "      <td>0.310</td>\n",
       "      <td>3.6</td>\n",
       "      <td>0.067</td>\n",
       "      <td>18.0</td>\n",
       "      <td>42.0</td>\n",
       "      <td>0.99549</td>\n",
       "      <td>3.39</td>\n",
       "      <td>0.66</td>\n",
       "      <td>11.0</td>\n",
       "      <td>1</td>\n",
       "    </tr>\n",
       "  </tbody>\n",
       "</table>\n",
       "<p>1599 rows × 11 columns</p>\n",
       "</div>"
      ],
      "text/plain": [
       "      fixedacidity  volatileacidity  residualsugar  chlorides  \\\n",
       "0              7.4            0.700            1.9      0.076   \n",
       "1              7.8            0.880            2.6      0.098   \n",
       "2              7.8            0.760            2.3      0.092   \n",
       "3             11.2            0.280            1.9      0.075   \n",
       "4              7.4            0.700            1.9      0.076   \n",
       "...            ...              ...            ...        ...   \n",
       "1594           6.2            0.600            2.0      0.090   \n",
       "1595           5.9            0.550            2.2      0.062   \n",
       "1596           6.3            0.510            2.3      0.076   \n",
       "1597           5.9            0.645            2.0      0.075   \n",
       "1598           6.0            0.310            3.6      0.067   \n",
       "\n",
       "      freesulfurdioxide  totalsulfurdioxide  density    pH  sulphates  \\\n",
       "0                  11.0                34.0  0.99780  3.51       0.56   \n",
       "1                  25.0                67.0  0.99680  3.20       0.68   \n",
       "2                  15.0                54.0  0.99700  3.26       0.65   \n",
       "3                  17.0                60.0  0.99800  3.16       0.58   \n",
       "4                  11.0                34.0  0.99780  3.51       0.56   \n",
       "...                 ...                 ...      ...   ...        ...   \n",
       "1594               32.0                44.0  0.99490  3.45       0.58   \n",
       "1595               39.0                51.0  0.99512  3.52       0.76   \n",
       "1596               29.0                40.0  0.99574  3.42       0.75   \n",
       "1597               32.0                44.0  0.99547  3.57       0.71   \n",
       "1598               18.0                42.0  0.99549  3.39       0.66   \n",
       "\n",
       "      alcohol  quality  \n",
       "0         9.4        0  \n",
       "1         9.8        0  \n",
       "2         9.8        0  \n",
       "3         9.8        1  \n",
       "4         9.4        0  \n",
       "...       ...      ...  \n",
       "1594     10.5        0  \n",
       "1595     11.2        1  \n",
       "1596     11.0        1  \n",
       "1597     10.2        0  \n",
       "1598     11.0        1  \n",
       "\n",
       "[1599 rows x 11 columns]"
      ]
     },
     "execution_count": 4,
     "metadata": {},
     "output_type": "execute_result"
    }
   ],
   "source": [
    "# Проверяем как загрузился дата сет. \n",
    "df"
   ]
  },
  {
   "cell_type": "code",
   "execution_count": 5,
   "metadata": {},
   "outputs": [],
   "source": [
    "# Делим наш дата сет на обучающую и тестирующую выборку в пропорции 20/80.\n",
    "X = df.iloc[:, :-1].values\n",
    "y = df.iloc[:, -1].values\n",
    "from sklearn.model_selection import train_test_split\n",
    "X_train, X_test, y_train, y_test = train_test_split(X, y, test_size=0.2, random_state=13)"
   ]
  },
  {
   "cell_type": "code",
   "execution_count": 6,
   "metadata": {},
   "outputs": [],
   "source": [
    "# Производим шкалирование наших данных без нашей эдогенной переменной quality.\n",
    "from sklearn.preprocessing import StandardScaler\n",
    "sc_X = StandardScaler().fit(X_train)\n",
    "X_train = sc_X.transform(X_train)\n",
    "X_test = sc_X.transform(X_test)"
   ]
  },
  {
   "cell_type": "code",
   "execution_count": 7,
   "metadata": {},
   "outputs": [
    {
     "name": "stdout",
     "output_type": "stream",
     "text": [
      "Optimization terminated successfully.\n",
      "         Current function value: 0.519679\n",
      "         Iterations 6\n",
      "                         Results: Logit\n",
      "=================================================================\n",
      "Model:              Logit            Pseudo R-squared: 0.247     \n",
      "Dependent Variable: y                AIC:              1349.3398 \n",
      "Date:               2020-12-19 11:07 BIC:              1400.8782 \n",
      "No. Observations:   1279             Log-Likelihood:   -664.67   \n",
      "Df Model:           9                LL-Null:          -882.54   \n",
      "Df Residuals:       1269             LLR p-value:      3.1908e-88\n",
      "Converged:          1.0000           Scale:            1.0000    \n",
      "No. Iterations:     6.0000                                       \n",
      "-------------------------------------------------------------------\n",
      "           Coef.    Std.Err.      z      P>|z|     [0.025    0.975]\n",
      "-------------------------------------------------------------------\n",
      "x1        -0.0598     0.1065   -0.5612   0.5746   -0.2685    0.1490\n",
      "x2        -0.5237     0.0797   -6.5726   0.0000   -0.6798   -0.3675\n",
      "x3         0.0444     0.0697    0.6370   0.5241   -0.0922    0.1810\n",
      "x4        -0.2787     0.0836   -3.3324   0.0009   -0.4427   -0.1148\n",
      "x5         0.3158     0.0953    3.3150   0.0009    0.1291    0.5025\n",
      "x6        -0.6846     0.1071   -6.3943   0.0000   -0.8945   -0.4748\n",
      "x7         0.0561     0.0731    0.7674   0.4428   -0.0872    0.1994\n",
      "x8        -0.1851     0.1033   -1.7917   0.0732   -0.3876    0.0174\n",
      "x9         0.4873     0.0830    5.8709   0.0000    0.3246    0.6499\n",
      "x10        0.8769     0.0819   10.7056   0.0000    0.7164    1.0375\n",
      "=================================================================\n",
      "\n"
     ]
    }
   ],
   "source": [
    "# Строим базовую модель и смотрим на полученный отчет. Можно сделать вывод, что значимых перменных только четыре, но мы будем использовать только две, чтобы можно было продемонстрировать на графике, это volatile acidity и total sulfur dioxide. Будем использовать их для построения наших классификаторов.\n",
    "import statsmodels.api as sm\n",
    "lr = sm.Logit(y_train, X_train).fit()\n",
    "print(lr.summary2())"
   ]
  },
  {
   "cell_type": "code",
   "execution_count": 8,
   "metadata": {},
   "outputs": [],
   "source": [
    "# Остлавляем только значимые переменные.\n",
    "X_train = X_train[:,[1,5]]\n",
    "X_test = X_test[:,[1,5]]"
   ]
  },
  {
   "cell_type": "code",
   "execution_count": 9,
   "metadata": {},
   "outputs": [],
   "source": [
    "# Обучаем модель логистической регрессии.\n",
    "from sklearn.linear_model import LogisticRegression\n",
    "lr = LogisticRegression(random_state = 13).fit(X_train, y_train)"
   ]
  },
  {
   "cell_type": "code",
   "execution_count": 10,
   "metadata": {},
   "outputs": [
    {
     "data": {
      "text/plain": [
       "0.66875"
      ]
     },
     "execution_count": 10,
     "metadata": {},
     "output_type": "execute_result"
    }
   ],
   "source": [
    "# Делаем прогноз на тестовой выборке. Уровень качества модели ниже нормального (80%), только 66%, то есть 66% объектов будут распознаны правильно.\n",
    "y_pred = lr.predict(X_test)\n",
    "lr.score(X_test,y_test)"
   ]
  },
  {
   "cell_type": "code",
   "execution_count": 11,
   "metadata": {},
   "outputs": [
    {
     "name": "stdout",
     "output_type": "stream",
     "text": [
      "[[ 87  68]\n",
      " [ 38 127]]\n"
     ]
    }
   ],
   "source": [
    "# Строим таблицу сопряженности. Можно сделать вывод, что 38 положительных случая ложно определены как отрицательные и 68 отрицательных случаев определены моделью как положительные. \n",
    "from sklearn.metrics import confusion_matrix\n",
    "cm = confusion_matrix(y_test, y_pred)\n",
    "print(cm)"
   ]
  },
  {
   "cell_type": "code",
   "execution_count": 12,
   "metadata": {},
   "outputs": [
    {
     "name": "stderr",
     "output_type": "stream",
     "text": [
      "*c* argument looks like a single numeric RGB or RGBA sequence, which should be avoided as value-mapping will have precedence in case its length matches with *x* & *y*.  Please use the *color* keyword-argument or provide a 2-D array with a single row if you intend to specify the same RGB or RGBA value for all points.\n",
      "*c* argument looks like a single numeric RGB or RGBA sequence, which should be avoided as value-mapping will have precedence in case its length matches with *x* & *y*.  Please use the *color* keyword-argument or provide a 2-D array with a single row if you intend to specify the same RGB or RGBA value for all points.\n"
     ]
    },
    {
     "data": {
      "image/png": "[encoded data removed]",
      "text/plain": [
       "<Figure size 432x288 with 1 Axes>"
      ]
     },
     "metadata": {
      "needs_background": "light"
     },
     "output_type": "display_data"
    }
   ],
   "source": [
    "# Строим область значений. Они отделяются линейно. Зелёные точки - вино высокого качества, красные точки - вино низкого качества.  \n",
    "from matplotlib.colors import ListedColormap\n",
    "X_set, y_set = X_test, y_test\n",
    "X1, X2 = np.meshgrid(np.arange(start = X_set[:, 0].min() - 1, stop = X_set[:, 0].max() + 1, step = 0.01),\n",
    "                     np.arange(start = X_set[:, 1].min() - 1, stop = X_set[:, 1].max() + 1, step = 0.01))\n",
    "plt.contourf(X1, X2, lr.predict(np.array([X1.ravel(), X2.ravel()]).T).reshape(X1.shape),\n",
    "             alpha = 0.75, cmap = ListedColormap(('red', 'green')))\n",
    "plt.xlim(X1.min(), X1.max())\n",
    "plt.ylim(X2.min(), X2.max())\n",
    "for i, j in enumerate(np.unique(y_set)):\n",
    "    plt.scatter(X_set[y_set == j, 0], X_set[y_set == j, 1],\n",
    "                c = ListedColormap(('red', 'green'))(i), label = j)\n",
    "plt.title('Logistic Regression (Test set)')\n",
    "plt.xlabel('ALT')\n",
    "plt.ylabel('AST')\n",
    "plt.legend()\n",
    "plt.show()"
   ]
  },
  {
   "cell_type": "code",
   "execution_count": 13,
   "metadata": {},
   "outputs": [],
   "source": [
    "# Устанавливаем необходимые пакеты Keras.\n",
    "import keras\n",
    "from keras.models import Sequential\n",
    "from keras.layers import Dense"
   ]
  },
  {
   "cell_type": "code",
   "execution_count": 14,
   "metadata": {},
   "outputs": [],
   "source": [
    "# Строим нейронную сеть прямой передачи сигнала. На входном слое 8 нейрона (усложнее). Используем функцию relu, которая позволит учесть наличие линейнносоти в исходных данных. На втором слое выбирем 1 нейрон используя сигмоидальную функцию. \n",
    "cnn = Sequential()\n",
    "cnn.add(Dense(units = 8,  activation = 'relu', input_dim = 2))\n",
    "cnn.add(Dense(units = 1,  activation = 'sigmoid'))\n",
    "cnn.compile(optimizer = 'adam', loss = 'binary_crossentropy', metrics = ['accuracy'])"
   ]
  },
  {
   "cell_type": "code",
   "execution_count": 15,
   "metadata": {},
   "outputs": [
    {
     "name": "stdout",
     "output_type": "stream",
     "text": [
      "Epoch 1/100\n",
      "160/160 [==============================] - 0s 536us/step - loss: 0.7995 - accuracy: 0.5418\n",
      "Epoch 2/100\n",
      "160/160 [==============================] - 0s 505us/step - loss: 0.6848 - accuracy: 0.5575\n",
      "Epoch 3/100\n",
      "160/160 [==============================] - 0s 507us/step - loss: 0.6372 - accuracy: 0.6200\n",
      "Epoch 4/100\n",
      "160/160 [==============================] - 0s 428us/step - loss: 0.6187 - accuracy: 0.6661\n",
      "Epoch 5/100\n",
      "160/160 [==============================] - 0s 435us/step - loss: 0.6118 - accuracy: 0.6701\n",
      "Epoch 6/100\n",
      "160/160 [==============================] - 0s 433us/step - loss: 0.6086 - accuracy: 0.6685\n",
      "Epoch 7/100\n",
      "160/160 [==============================] - 0s 464us/step - loss: 0.6072 - accuracy: 0.6685\n",
      "Epoch 8/100\n",
      "160/160 [==============================] - 0s 429us/step - loss: 0.6063 - accuracy: 0.6708\n",
      "Epoch 9/100\n",
      "160/160 [==============================] - 0s 437us/step - loss: 0.6057 - accuracy: 0.6693\n",
      "Epoch 10/100\n",
      "160/160 [==============================] - 0s 426us/step - loss: 0.6052 - accuracy: 0.6685\n",
      "Epoch 11/100\n",
      "160/160 [==============================] - 0s 439us/step - loss: 0.6051 - accuracy: 0.6669\n",
      "Epoch 12/100\n",
      "160/160 [==============================] - 0s 443us/step - loss: 0.6046 - accuracy: 0.6685\n",
      "Epoch 13/100\n",
      "160/160 [==============================] - 0s 436us/step - loss: 0.6041 - accuracy: 0.6701\n",
      "Epoch 14/100\n",
      "160/160 [==============================] - 0s 437us/step - loss: 0.6043 - accuracy: 0.6661\n",
      "Epoch 15/100\n",
      "160/160 [==============================] - 0s 448us/step - loss: 0.6038 - accuracy: 0.6701\n",
      "Epoch 16/100\n",
      "160/160 [==============================] - 0s 431us/step - loss: 0.6036 - accuracy: 0.6708\n",
      "Epoch 17/100\n",
      "160/160 [==============================] - 0s 436us/step - loss: 0.6035 - accuracy: 0.6708\n",
      "Epoch 18/100\n",
      "160/160 [==============================] - 0s 419us/step - loss: 0.6034 - accuracy: 0.6716\n",
      "Epoch 19/100\n",
      "160/160 [==============================] - 0s 433us/step - loss: 0.6034 - accuracy: 0.6693\n",
      "Epoch 20/100\n",
      "160/160 [==============================] - 0s 436us/step - loss: 0.6031 - accuracy: 0.6716\n",
      "Epoch 21/100\n",
      "160/160 [==============================] - 0s 443us/step - loss: 0.6033 - accuracy: 0.6701\n",
      "Epoch 22/100\n",
      "160/160 [==============================] - 0s 441us/step - loss: 0.6031 - accuracy: 0.6724\n",
      "Epoch 23/100\n",
      "160/160 [==============================] - 0s 429us/step - loss: 0.6031 - accuracy: 0.6716\n",
      "Epoch 24/100\n",
      "160/160 [==============================] - 0s 436us/step - loss: 0.6027 - accuracy: 0.6716\n",
      "Epoch 25/100\n",
      "160/160 [==============================] - 0s 462us/step - loss: 0.6028 - accuracy: 0.6732\n",
      "Epoch 26/100\n",
      "160/160 [==============================] - 0s 427us/step - loss: 0.6027 - accuracy: 0.6732\n",
      "Epoch 27/100\n",
      "160/160 [==============================] - 0s 424us/step - loss: 0.6027 - accuracy: 0.6732\n",
      "Epoch 28/100\n",
      "160/160 [==============================] - 0s 424us/step - loss: 0.6026 - accuracy: 0.6693\n",
      "Epoch 29/100\n",
      "160/160 [==============================] - 0s 460us/step - loss: 0.6024 - accuracy: 0.6716\n",
      "Epoch 30/100\n",
      "160/160 [==============================] - 0s 425us/step - loss: 0.6022 - accuracy: 0.6732\n",
      "Epoch 31/100\n",
      "160/160 [==============================] - 0s 438us/step - loss: 0.6021 - accuracy: 0.6732\n",
      "Epoch 32/100\n",
      "160/160 [==============================] - 0s 424us/step - loss: 0.6020 - accuracy: 0.6732\n",
      "Epoch 33/100\n",
      "160/160 [==============================] - 0s 436us/step - loss: 0.6021 - accuracy: 0.6732\n",
      "Epoch 34/100\n",
      "160/160 [==============================] - 0s 436us/step - loss: 0.6019 - accuracy: 0.6732\n",
      "Epoch 35/100\n",
      "160/160 [==============================] - 0s 436us/step - loss: 0.6019 - accuracy: 0.6724\n",
      "Epoch 36/100\n",
      "160/160 [==============================] - 0s 436us/step - loss: 0.6019 - accuracy: 0.6724\n",
      "Epoch 37/100\n",
      "160/160 [==============================] - 0s 434us/step - loss: 0.6018 - accuracy: 0.6732\n",
      "Epoch 38/100\n",
      "160/160 [==============================] - 0s 455us/step - loss: 0.6015 - accuracy: 0.6740\n",
      "Epoch 39/100\n",
      "160/160 [==============================] - 0s 424us/step - loss: 0.6016 - accuracy: 0.6732\n",
      "Epoch 40/100\n",
      "160/160 [==============================] - 0s 445us/step - loss: 0.6017 - accuracy: 0.6732\n",
      "Epoch 41/100\n",
      "160/160 [==============================] - 0s 439us/step - loss: 0.6016 - accuracy: 0.6724\n",
      "Epoch 42/100\n",
      "160/160 [==============================] - 0s 416us/step - loss: 0.6019 - accuracy: 0.6740\n",
      "Epoch 43/100\n",
      "160/160 [==============================] - 0s 435us/step - loss: 0.6014 - accuracy: 0.6740\n",
      "Epoch 44/100\n",
      "160/160 [==============================] - 0s 436us/step - loss: 0.6013 - accuracy: 0.6755\n",
      "Epoch 45/100\n",
      "160/160 [==============================] - 0s 423us/step - loss: 0.6015 - accuracy: 0.6708\n",
      "Epoch 46/100\n",
      "160/160 [==============================] - 0s 421us/step - loss: 0.6013 - accuracy: 0.6732\n",
      "Epoch 47/100\n",
      "160/160 [==============================] - 0s 430us/step - loss: 0.6013 - accuracy: 0.6740\n",
      "Epoch 48/100\n",
      "160/160 [==============================] - 0s 432us/step - loss: 0.6012 - accuracy: 0.6724\n",
      "Epoch 49/100\n",
      "160/160 [==============================] - 0s 434us/step - loss: 0.6012 - accuracy: 0.6755\n",
      "Epoch 50/100\n",
      "160/160 [==============================] - 0s 429us/step - loss: 0.6012 - accuracy: 0.6755\n",
      "Epoch 51/100\n",
      "160/160 [==============================] - 0s 424us/step - loss: 0.6012 - accuracy: 0.6716\n",
      "Epoch 52/100\n",
      "160/160 [==============================] - 0s 423us/step - loss: 0.6009 - accuracy: 0.6732\n",
      "Epoch 53/100\n",
      "160/160 [==============================] - 0s 445us/step - loss: 0.6009 - accuracy: 0.6740\n",
      "Epoch 54/100\n",
      "160/160 [==============================] - 0s 433us/step - loss: 0.6008 - accuracy: 0.6747\n",
      "Epoch 55/100\n",
      "160/160 [==============================] - 0s 425us/step - loss: 0.6008 - accuracy: 0.6716\n",
      "Epoch 56/100\n",
      "160/160 [==============================] - 0s 433us/step - loss: 0.6008 - accuracy: 0.6724\n",
      "Epoch 57/100\n",
      "160/160 [==============================] - 0s 422us/step - loss: 0.6006 - accuracy: 0.6716\n",
      "Epoch 58/100\n",
      "160/160 [==============================] - 0s 415us/step - loss: 0.6007 - accuracy: 0.6708\n",
      "Epoch 59/100\n",
      "160/160 [==============================] - 0s 419us/step - loss: 0.6007 - accuracy: 0.6724\n",
      "Epoch 60/100\n",
      "160/160 [==============================] - 0s 424us/step - loss: 0.6004 - accuracy: 0.6708\n",
      "Epoch 61/100\n",
      "160/160 [==============================] - 0s 423us/step - loss: 0.6004 - accuracy: 0.6716\n",
      "Epoch 62/100\n",
      "160/160 [==============================] - 0s 412us/step - loss: 0.6006 - accuracy: 0.6732\n",
      "Epoch 63/100\n",
      "160/160 [==============================] - 0s 422us/step - loss: 0.6003 - accuracy: 0.6716\n",
      "Epoch 64/100\n",
      "160/160 [==============================] - 0s 443us/step - loss: 0.6005 - accuracy: 0.6763\n",
      "Epoch 65/100\n",
      "160/160 [==============================] - 0s 428us/step - loss: 0.6003 - accuracy: 0.6755\n",
      "Epoch 66/100\n",
      "160/160 [==============================] - 0s 412us/step - loss: 0.6003 - accuracy: 0.6708\n",
      "Epoch 67/100\n",
      "160/160 [==============================] - 0s 424us/step - loss: 0.6002 - accuracy: 0.6724\n",
      "Epoch 68/100\n",
      "160/160 [==============================] - 0s 431us/step - loss: 0.6002 - accuracy: 0.6708\n",
      "Epoch 69/100\n",
      "160/160 [==============================] - 0s 416us/step - loss: 0.6001 - accuracy: 0.6724\n",
      "Epoch 70/100\n",
      "160/160 [==============================] - 0s 418us/step - loss: 0.6002 - accuracy: 0.6708\n",
      "Epoch 71/100\n",
      "160/160 [==============================] - 0s 449us/step - loss: 0.6001 - accuracy: 0.6732\n",
      "Epoch 72/100\n",
      "160/160 [==============================] - 0s 424us/step - loss: 0.6001 - accuracy: 0.6708\n",
      "Epoch 73/100\n",
      "160/160 [==============================] - 0s 418us/step - loss: 0.5998 - accuracy: 0.6716\n",
      "Epoch 74/100\n",
      "160/160 [==============================] - 0s 420us/step - loss: 0.5997 - accuracy: 0.6708\n",
      "Epoch 75/100\n",
      "160/160 [==============================] - 0s 436us/step - loss: 0.5998 - accuracy: 0.6708\n",
      "Epoch 76/100\n",
      "160/160 [==============================] - 0s 438us/step - loss: 0.5999 - accuracy: 0.6701\n",
      "Epoch 77/100\n",
      "160/160 [==============================] - 0s 449us/step - loss: 0.5997 - accuracy: 0.6708\n",
      "Epoch 78/100\n",
      "160/160 [==============================] - 0s 418us/step - loss: 0.5996 - accuracy: 0.6701\n",
      "Epoch 79/100\n"
     ]
    },
    {
     "name": "stdout",
     "output_type": "stream",
     "text": [
      "160/160 [==============================] - 0s 430us/step - loss: 0.5994 - accuracy: 0.6747\n",
      "Epoch 80/100\n",
      "160/160 [==============================] - 0s 429us/step - loss: 0.5995 - accuracy: 0.6701\n",
      "Epoch 81/100\n",
      "160/160 [==============================] - 0s 429us/step - loss: 0.5994 - accuracy: 0.6732\n",
      "Epoch 82/100\n",
      "160/160 [==============================] - 0s 417us/step - loss: 0.5994 - accuracy: 0.6724\n",
      "Epoch 83/100\n",
      "160/160 [==============================] - 0s 418us/step - loss: 0.5992 - accuracy: 0.6716\n",
      "Epoch 84/100\n",
      "160/160 [==============================] - 0s 411us/step - loss: 0.5995 - accuracy: 0.6716\n",
      "Epoch 85/100\n",
      "160/160 [==============================] - 0s 426us/step - loss: 0.5995 - accuracy: 0.6724\n",
      "Epoch 86/100\n",
      "160/160 [==============================] - 0s 424us/step - loss: 0.5993 - accuracy: 0.6732\n",
      "Epoch 87/100\n",
      "160/160 [==============================] - 0s 415us/step - loss: 0.5993 - accuracy: 0.6708\n",
      "Epoch 88/100\n",
      "160/160 [==============================] - 0s 445us/step - loss: 0.5991 - accuracy: 0.6740\n",
      "Epoch 89/100\n",
      "160/160 [==============================] - 0s 418us/step - loss: 0.5993 - accuracy: 0.6708\n",
      "Epoch 90/100\n",
      "160/160 [==============================] - 0s 429us/step - loss: 0.5991 - accuracy: 0.6701\n",
      "Epoch 91/100\n",
      "160/160 [==============================] - 0s 425us/step - loss: 0.5992 - accuracy: 0.6732\n",
      "Epoch 92/100\n",
      "160/160 [==============================] - 0s 461us/step - loss: 0.5990 - accuracy: 0.6724\n",
      "Epoch 93/100\n",
      "160/160 [==============================] - 0s 421us/step - loss: 0.5990 - accuracy: 0.6716\n",
      "Epoch 94/100\n",
      "160/160 [==============================] - 0s 411us/step - loss: 0.5991 - accuracy: 0.6747\n",
      "Epoch 95/100\n",
      "160/160 [==============================] - 0s 423us/step - loss: 0.5990 - accuracy: 0.6755\n",
      "Epoch 96/100\n",
      "160/160 [==============================] - 0s 432us/step - loss: 0.5989 - accuracy: 0.6740\n",
      "Epoch 97/100\n",
      "160/160 [==============================] - 0s 423us/step - loss: 0.5988 - accuracy: 0.6732\n",
      "Epoch 98/100\n",
      "160/160 [==============================] - 0s 414us/step - loss: 0.5989 - accuracy: 0.6732\n",
      "Epoch 99/100\n",
      "160/160 [==============================] - 0s 428us/step - loss: 0.5988 - accuracy: 0.6716\n",
      "Epoch 100/100\n",
      "160/160 [==============================] - 0s 430us/step - loss: 0.5987 - accuracy: 0.6724\n"
     ]
    },
    {
     "data": {
      "text/plain": [
       "<tensorflow.python.keras.callbacks.History at 0x2687c045670>"
      ]
     },
     "execution_count": 15,
     "metadata": {},
     "output_type": "execute_result"
    }
   ],
   "source": [
    "# Обучаем нейронную сеть в течении 100 эпох.\n",
    "cnn.fit(X_train, y_train, epochs = 100, batch_size = 8)"
   ]
  },
  {
   "cell_type": "code",
   "execution_count": 16,
   "metadata": {},
   "outputs": [],
   "source": [
    "# Строим прогноз на тестовой выборке.\n",
    "y_pred = cnn.predict(X_test)\n",
    "y_pred = (y_pred > 0.5)"
   ]
  },
  {
   "cell_type": "code",
   "execution_count": 17,
   "metadata": {},
   "outputs": [
    {
     "name": "stdout",
     "output_type": "stream",
     "text": [
      "[[ 97  58]\n",
      " [ 46 119]]\n"
     ]
    }
   ],
   "source": [
    "# Строим таблицу сопряженности. Можно сделать вывод, что 46 положительных случая ложно определены как отрицательные и 58 отрицательный случай ложно определен как положительный.\n",
    "from sklearn.metrics import confusion_matrix\n",
    "cm = confusion_matrix(y_test, y_pred)\n",
    "print(cm)"
   ]
  },
  {
   "cell_type": "code",
   "execution_count": 18,
   "metadata": {},
   "outputs": [
    {
     "name": "stderr",
     "output_type": "stream",
     "text": [
      "*c* argument looks like a single numeric RGB or RGBA sequence, which should be avoided as value-mapping will have precedence in case its length matches with *x* & *y*.  Please use the *color* keyword-argument or provide a 2-D array with a single row if you intend to specify the same RGB or RGBA value for all points.\n",
      "*c* argument looks like a single numeric RGB or RGBA sequence, which should be avoided as value-mapping will have precedence in case its length matches with *x* & *y*.  Please use the *color* keyword-argument or provide a 2-D array with a single row if you intend to specify the same RGB or RGBA value for all points.\n"
     ]
    },
    {
     "data": {
      "image/png": "[encoded data removed]",
      "text/plain": [
       "<Figure size 432x288 with 1 Axes>"
      ]
     },
     "metadata": {
      "needs_background": "light"
     },
     "output_type": "display_data"
    }
   ],
   "source": [
    "# Строим область значений. Они отделяются не линейно.  \n",
    "from matplotlib.colors import ListedColormap\n",
    "X_set, y_set = X_test, y_test\n",
    "X1, X2 = np.meshgrid(np.arange(start = X_set[:, 0].min() - 1, stop = X_set[:, 0].max() + 1, step = 0.01),\n",
    "                     np.arange(start = X_set[:, 1].min() - 1, stop = X_set[:, 1].max() + 1, step = 0.01))\n",
    "plt.contourf(X1, X2, cnn.predict(np.array([X1.ravel(), X2.ravel()]).T).reshape(X1.shape),\n",
    "             alpha = 0.75, cmap = ListedColormap(('red', 'green')))\n",
    "plt.xlim(X1.min(), X1.max())\n",
    "plt.ylim(X2.min(), X2.max())\n",
    "for i, j in enumerate(np.unique(y_set)):\n",
    "    plt.scatter(X_set[y_set == j, 0], X_set[y_set == j, 1],\n",
    "                c = ListedColormap(('red', 'green'))(i), label = j)\n",
    "plt.title('NN (Test set)')\n",
    "plt.xlabel('ALT')\n",
    "plt.ylabel('AST')\n",
    "plt.legend()\n",
    "plt.show()"
   ]
  },
  {
   "cell_type": "code",
   "execution_count": 19,
   "metadata": {},
   "outputs": [],
   "source": [
    "# Выводы. Подводя итоги можно сказать, что исходная логистическая модель обладает пониженной точностью и качественностью и определяет 66% объектов верно. Так же стоит отметить, что позитивные и негативные значения отдлеяются линейно в случае логичстичекой регрессии и не линейно при построении нейронной сети. Эту линейность мы используем для построения нейронной сети. При использовании стандартных параметров мы получаем качество модели худше, но при этом сохраняется линейность отделения позитивных от негативных. Для улучшения качества модели было принято решение увеличить количество нейронов на первом слое с 2 до 8, что позволило немного улучшить качество модели в целом, однако разделение положительных от отрицательных более не линейно. "
   ]
  }
 ],
 "metadata": {
  "kernelspec": {
   "display_name": "Python 3",
   "language": "python",
   "name": "python3"
  },
  "language_info": {
   "codemirror_mode": {
    "name": "ipython",
    "version": 3
   },
   "file_extension": ".py",
   "mimetype": "text/x-python",
   "name": "python",
   "nbconvert_exporter": "python",
   "pygments_lexer": "ipython3",
   "version": "3.8.3"
  }
 },
 "nbformat": 4,
 "nbformat_minor": 4
}
